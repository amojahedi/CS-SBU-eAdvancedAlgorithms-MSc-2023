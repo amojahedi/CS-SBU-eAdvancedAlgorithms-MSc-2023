{
 "cells": [
  {
   "cell_type": "markdown",
   "source": [
    "# The Diet Project\n",
    "\n",
    "This project recommends a food diet to fitness enthusiasts. Note that this project is not guaranteed to be accurate. The numbers and range may be inaccurate resulting in an inaccurate diet. So one should not rely on the diet proposed by this software and must consult an expert."
   ],
   "metadata": {
    "collapsed": false
   }
  },
  {
   "cell_type": "markdown",
   "source": [
    "\n",
    "## Quick Start\n",
    "\n",
    "Install the requirements.\n",
    "\n",
    "```shell\n",
    "pip install -r requirements.txt\n",
    "```\n",
    "\n",
    "Run The project.\n",
    "\n",
    "```shell\n",
    "python3 manage.py runserver 8000\n",
    "```\n",
    "\n",
    "Access the UI via browser under the url [http://localhost:8000](http://localhost:8000)."
   ],
   "metadata": {
    "collapsed": false
   }
  },
  {
   "cell_type": "markdown",
   "source": [
    "\n",
    "## Implementation Documentation\n",
    "\n",
    "### User-Friendly UI Using Django\n",
    "\n",
    "In this project, we used a python web-site and web-server framework named Django to implement the desired UI for the bonus section.\n",
    "\n",
    "The project is named `diet_lp` and we created an app inside it named `diet` ([diet](diet)) where we store most of our project codes.\n",
    "\n",
    "The files related to UI can be found under `forms.py`, `views.py`, `widgets.py`, and the `templates` directory.\n",
    "\n",
    "A description in more details can be found under file [gui_description.mp4](gui_description.mp4)."
   ],
   "metadata": {
    "collapsed": false
   }
  },
  {
   "cell_type": "markdown",
   "source": [
    "### Data Preprocess\n",
    "\n",
    "We downloaded a dataset from USDA named SR Legacy released at 4/2018. It contains several data about several foods. We do not need all these data, so we simplify the data into another csv file. We crated a python script to extract the required data from the dataset.\n",
    "\n",
    "To run the preprocess script over the dataset, run the following command.\n",
    "\n",
    "```shell\n",
    "python3 manage.py preprocess diet/data/usda diet/data/usda.csv\n",
    "```\n",
    "\n",
    "Given the directory `usda`, it generates the file `usda.csv`.\n",
    "\n",
    "We follow these steps in the script."
   ],
   "metadata": {
    "collapsed": false
   }
  },
  {
   "cell_type": "code",
   "execution_count": 249,
   "outputs": [
    {
     "name": "stdout",
     "output_type": "stream",
     "text": [
      "      fdc_id       data_type  \\\n",
      "0     167512  sr_legacy_food   \n",
      "1     167513  sr_legacy_food   \n",
      "2     167514  sr_legacy_food   \n",
      "3     167515  sr_legacy_food   \n",
      "4     167516  sr_legacy_food   \n",
      "...      ...             ...   \n",
      "7788  175300  sr_legacy_food   \n",
      "7789  175301  sr_legacy_food   \n",
      "7790  175302  sr_legacy_food   \n",
      "7791  175303  sr_legacy_food   \n",
      "7792  175304  sr_legacy_food   \n",
      "\n",
      "                                            description  food_category_id  \\\n",
      "0     Pillsbury Golden Layer Buttermilk Biscuits, Ar...                18   \n",
      "1     Pillsbury, Cinnamon Rolls with Icing, refriger...                18   \n",
      "2     Kraft Foods, Shake N Bake Original Recipe, Coa...                18   \n",
      "3        George Weston Bakeries, Thomas English Muffins                18   \n",
      "4            Waffles, buttermilk, frozen, ready-to-heat                18   \n",
      "...                                                 ...               ...   \n",
      "7788         Game meat, buffalo, water, cooked, roasted                17   \n",
      "7789                                Game meat, elk, raw                17   \n",
      "7790                    Game meat, elk, cooked, roasted                17   \n",
      "7791                               Game meat, goat, raw                17   \n",
      "7792                   Game meat, goat, cooked, roasted                17   \n",
      "\n",
      "     publication_date  \n",
      "0          2019-04-01  \n",
      "1          2019-04-01  \n",
      "2          2019-04-01  \n",
      "3          2019-04-01  \n",
      "4          2019-04-01  \n",
      "...               ...  \n",
      "7788       2019-04-01  \n",
      "7789       2019-04-01  \n",
      "7790       2019-04-01  \n",
      "7791       2019-04-01  \n",
      "7792       2019-04-01  \n",
      "\n",
      "[7793 rows x 5 columns]\n"
     ]
    }
   ],
   "source": [
    "import pathlib\n",
    "\n",
    "import pandas as pd\n",
    "\n",
    "input_dir = pathlib.Path(\"diet/data/usda\")\n",
    "\n",
    "foods = pd.read_csv(input_dir / \"food.csv\")\n",
    "\n",
    "print(foods)"
   ],
   "metadata": {
    "collapsed": false,
    "ExecuteTime": {
     "end_time": "2023-06-29T18:27:00.585068728Z",
     "start_time": "2023-06-29T18:27:00.541577357Z"
    }
   }
  },
  {
   "cell_type": "markdown",
   "source": [
    "#### Drop Unwanted Columns"
   ],
   "metadata": {
    "collapsed": false
   }
  },
  {
   "cell_type": "code",
   "execution_count": 210,
   "outputs": [
    {
     "name": "stdout",
     "output_type": "stream",
     "text": [
      "      fdc_id                                        description  \\\n",
      "0     167512  Pillsbury Golden Layer Buttermilk Biscuits, Ar...   \n",
      "1     167513  Pillsbury, Cinnamon Rolls with Icing, refriger...   \n",
      "2     167514  Kraft Foods, Shake N Bake Original Recipe, Coa...   \n",
      "3     167515     George Weston Bakeries, Thomas English Muffins   \n",
      "4     167516         Waffles, buttermilk, frozen, ready-to-heat   \n",
      "...      ...                                                ...   \n",
      "7788  175300         Game meat, buffalo, water, cooked, roasted   \n",
      "7789  175301                                Game meat, elk, raw   \n",
      "7790  175302                    Game meat, elk, cooked, roasted   \n",
      "7791  175303                               Game meat, goat, raw   \n",
      "7792  175304                   Game meat, goat, cooked, roasted   \n",
      "\n",
      "      food_category_id  \n",
      "0                   18  \n",
      "1                   18  \n",
      "2                   18  \n",
      "3                   18  \n",
      "4                   18  \n",
      "...                ...  \n",
      "7788                17  \n",
      "7789                17  \n",
      "7790                17  \n",
      "7791                17  \n",
      "7792                17  \n",
      "\n",
      "[7793 rows x 3 columns]\n"
     ]
    }
   ],
   "source": [
    "# We will not need these columns\n",
    "\n",
    "foods = foods.drop(['data_type', 'publication_date'], axis=1)\n",
    "\n",
    "print(foods)"
   ],
   "metadata": {
    "collapsed": false,
    "ExecuteTime": {
     "end_time": "2023-06-29T18:01:11.039914213Z",
     "start_time": "2023-06-29T18:01:10.621463252Z"
    }
   }
  },
  {
   "cell_type": "markdown",
   "source": [
    "#### Filter Unwanted Data"
   ],
   "metadata": {
    "collapsed": false
   }
  },
  {
   "cell_type": "code",
   "execution_count": 211,
   "outputs": [],
   "source": [
    "# We define 5 meals.\n",
    "\n",
    "MEAL_BREAKFAST = \"breakfast\"\n",
    "MEAL_MORNING_SNACK = \"morning_snack\"\n",
    "MEAL_LUNCH = \"lunch\"\n",
    "MEAL_AFTERNOON_SNACK = \"afternoon_snack\"\n",
    "MEAL_DINNER = \"dinner\""
   ],
   "metadata": {
    "collapsed": false,
    "ExecuteTime": {
     "end_time": "2023-06-29T18:01:11.040033209Z",
     "start_time": "2023-06-29T18:01:10.621729941Z"
    }
   }
  },
  {
   "cell_type": "code",
   "execution_count": 212,
   "outputs": [],
   "source": [
    "# We define all food categories based on the file food_category.csv\n",
    "\n",
    "FOOD_CATEGORY_DAIRY_AND_EGG_PRODUCTS = \"dairy_and_egg_products\"\n",
    "FOOD_CATEGORY_SPICES_AND_HERBS = \"spices_and_herbs\"\n",
    "FOOD_CATEGORY_BABY_FOODS = \"baby_foods\"\n",
    "FOOD_CATEGORY_FATS_AND_OILS = \"fats_and_oils\"\n",
    "FOOD_CATEGORY_POULTRY_PRODUCTS = \"poultry_products\"\n",
    "FOOD_CATEGORY_SOUPS_SAUCES_AND_GRAVIES = \"soups_sauces_and_gravies\"\n",
    "FOOD_CATEGORY_SAUSAGES_AND_LUNCHEON_MEATS = \"sausages_and_luncheon_meats\"\n",
    "FOOD_CATEGORY_BREAKFAST_CEREALS = \"breakfast_cereals\"\n",
    "FOOD_CATEGORY_FRUITS_AND_FRUIT_JUICES = \"fruits_and_fruit_juices\"\n",
    "FOOD_CATEGORY_PORK_PRODUCTS = \"pork_products\"\n",
    "FOOD_CATEGORY_VEGETABLES_AND_VEGETABLE_PRODUCTS = \"vegetables_and_vegetable_products\"\n",
    "FOOD_CATEGORY_NUT_AND_SEED_PRODUCTS = \"nut_and_seed_products\"\n",
    "FOOD_CATEGORY_BEEF_PRODUCTS = \"beef_products\"\n",
    "FOOD_CATEGORY_BEVERAGES = \"beverages\"\n",
    "FOOD_CATEGORY_FINFISH_AND_SHELLFISH_PRODUCTS = \"finfish_and_shellfish_products\"\n",
    "FOOD_CATEGORY_LEGUMES_AND_LEGUME_PRODUCTS = \"legumes_and_legume_products\"\n",
    "FOOD_CATEGORY_LAMB_VEAL_AND_GAME_PRODUCTS = \"lamb_veal_and_game_products\"\n",
    "FOOD_CATEGORY_BAKED_PRODUCTS = \"baked_products\"\n",
    "FOOD_CATEGORY_SWEETS = \"sweets\"\n",
    "FOOD_CATEGORY_CEREAL_GRAINS_AND_PASTA = \"cereal_grains_and_pasta\"\n",
    "FOOD_CATEGORY_FAST_FOODS = \"fast_foods\"\n",
    "FOOD_CATEGORY_MEALS_ENTREES_AND_SIDE_DISHES = \"meals_entrees_and_side_dishes\"\n",
    "FOOD_CATEGORY_SNACKS = \"snacks\"\n",
    "FOOD_CATEGORY_AMERICAN_INDIAN_ALASKA_NATIVE_FOODS = \"american_indian_alaska_native_foods\"\n",
    "FOOD_CATEGORY_RESTAURANT_FOODS = \"restaurant_foods\"\n",
    "\n",
    "# From food_category.csv\n",
    "FOOD_CATEGORY_ID_MAPPING = {\n",
    "    FOOD_CATEGORY_DAIRY_AND_EGG_PRODUCTS: 1,\n",
    "    FOOD_CATEGORY_SPICES_AND_HERBS: 2,\n",
    "    FOOD_CATEGORY_BABY_FOODS: 3,\n",
    "    FOOD_CATEGORY_FATS_AND_OILS: 4,\n",
    "    FOOD_CATEGORY_POULTRY_PRODUCTS: 5,\n",
    "    FOOD_CATEGORY_SOUPS_SAUCES_AND_GRAVIES: 6,\n",
    "    FOOD_CATEGORY_SAUSAGES_AND_LUNCHEON_MEATS: 7,\n",
    "    FOOD_CATEGORY_BREAKFAST_CEREALS: 8,\n",
    "    FOOD_CATEGORY_FRUITS_AND_FRUIT_JUICES: 9,\n",
    "    FOOD_CATEGORY_PORK_PRODUCTS: 10,\n",
    "    FOOD_CATEGORY_VEGETABLES_AND_VEGETABLE_PRODUCTS: 11,\n",
    "    FOOD_CATEGORY_NUT_AND_SEED_PRODUCTS: 12,\n",
    "    FOOD_CATEGORY_BEEF_PRODUCTS: 13,\n",
    "    FOOD_CATEGORY_BEVERAGES: 14,\n",
    "    FOOD_CATEGORY_FINFISH_AND_SHELLFISH_PRODUCTS: 15,\n",
    "    FOOD_CATEGORY_LEGUMES_AND_LEGUME_PRODUCTS: 16,\n",
    "    FOOD_CATEGORY_LAMB_VEAL_AND_GAME_PRODUCTS: 17,\n",
    "    FOOD_CATEGORY_BAKED_PRODUCTS: 18,\n",
    "    FOOD_CATEGORY_SWEETS: 19,\n",
    "    FOOD_CATEGORY_CEREAL_GRAINS_AND_PASTA: 20,\n",
    "    FOOD_CATEGORY_FAST_FOODS: 21,\n",
    "    FOOD_CATEGORY_MEALS_ENTREES_AND_SIDE_DISHES: 22,\n",
    "    FOOD_CATEGORY_SNACKS: 23,\n",
    "    FOOD_CATEGORY_AMERICAN_INDIAN_ALASKA_NATIVE_FOODS: 24,\n",
    "    FOOD_CATEGORY_RESTAURANT_FOODS: 25,\n",
    "}"
   ],
   "metadata": {
    "collapsed": false,
    "ExecuteTime": {
     "end_time": "2023-06-29T18:01:11.061695091Z",
     "start_time": "2023-06-29T18:01:10.621875487Z"
    }
   }
  },
  {
   "cell_type": "code",
   "execution_count": 213,
   "outputs": [],
   "source": [
    "# Now we select some food categories for each meal.\n",
    "\n",
    "import typing\n",
    "from functools import reduce\n",
    "\n",
    "MEAL_FOOD_CATEGORY_MAPPING: typing.Dict[str, set] = {\n",
    "    MEAL_BREAKFAST: {\n",
    "        FOOD_CATEGORY_DAIRY_AND_EGG_PRODUCTS,\n",
    "        FOOD_CATEGORY_SAUSAGES_AND_LUNCHEON_MEATS,\n",
    "        FOOD_CATEGORY_BREAKFAST_CEREALS,\n",
    "        FOOD_CATEGORY_FRUITS_AND_FRUIT_JUICES,\n",
    "        FOOD_CATEGORY_VEGETABLES_AND_VEGETABLE_PRODUCTS,\n",
    "        FOOD_CATEGORY_NUT_AND_SEED_PRODUCTS,\n",
    "        FOOD_CATEGORY_BEVERAGES,\n",
    "        FOOD_CATEGORY_LEGUMES_AND_LEGUME_PRODUCTS,\n",
    "        FOOD_CATEGORY_BAKED_PRODUCTS,\n",
    "    },\n",
    "    MEAL_MORNING_SNACK: {\n",
    "        FOOD_CATEGORY_SAUSAGES_AND_LUNCHEON_MEATS,\n",
    "        FOOD_CATEGORY_FRUITS_AND_FRUIT_JUICES,\n",
    "        FOOD_CATEGORY_VEGETABLES_AND_VEGETABLE_PRODUCTS,\n",
    "        FOOD_CATEGORY_NUT_AND_SEED_PRODUCTS,\n",
    "        FOOD_CATEGORY_BEVERAGES,\n",
    "        FOOD_CATEGORY_LEGUMES_AND_LEGUME_PRODUCTS,\n",
    "        FOOD_CATEGORY_BAKED_PRODUCTS,\n",
    "        FOOD_CATEGORY_SNACKS,\n",
    "    },\n",
    "    MEAL_LUNCH: {\n",
    "        FOOD_CATEGORY_POULTRY_PRODUCTS,\n",
    "        FOOD_CATEGORY_SOUPS_SAUCES_AND_GRAVIES,\n",
    "        FOOD_CATEGORY_SAUSAGES_AND_LUNCHEON_MEATS,\n",
    "        FOOD_CATEGORY_FRUITS_AND_FRUIT_JUICES,\n",
    "        FOOD_CATEGORY_VEGETABLES_AND_VEGETABLE_PRODUCTS,\n",
    "        FOOD_CATEGORY_NUT_AND_SEED_PRODUCTS,\n",
    "        FOOD_CATEGORY_BEEF_PRODUCTS,\n",
    "        FOOD_CATEGORY_BEVERAGES,\n",
    "        FOOD_CATEGORY_FINFISH_AND_SHELLFISH_PRODUCTS,\n",
    "        FOOD_CATEGORY_LEGUMES_AND_LEGUME_PRODUCTS,\n",
    "        FOOD_CATEGORY_LAMB_VEAL_AND_GAME_PRODUCTS,\n",
    "        FOOD_CATEGORY_BAKED_PRODUCTS,\n",
    "        FOOD_CATEGORY_CEREAL_GRAINS_AND_PASTA,\n",
    "        FOOD_CATEGORY_FAST_FOODS,\n",
    "        FOOD_CATEGORY_RESTAURANT_FOODS,\n",
    "    },\n",
    "    MEAL_AFTERNOON_SNACK: {\n",
    "        FOOD_CATEGORY_SOUPS_SAUCES_AND_GRAVIES,\n",
    "        FOOD_CATEGORY_SAUSAGES_AND_LUNCHEON_MEATS,\n",
    "        FOOD_CATEGORY_FRUITS_AND_FRUIT_JUICES,\n",
    "        FOOD_CATEGORY_VEGETABLES_AND_VEGETABLE_PRODUCTS,\n",
    "        FOOD_CATEGORY_NUT_AND_SEED_PRODUCTS,\n",
    "        FOOD_CATEGORY_BEVERAGES,\n",
    "        FOOD_CATEGORY_LEGUMES_AND_LEGUME_PRODUCTS,\n",
    "        FOOD_CATEGORY_BAKED_PRODUCTS,\n",
    "        FOOD_CATEGORY_SNACKS,\n",
    "    },\n",
    "    MEAL_DINNER: {\n",
    "        FOOD_CATEGORY_POULTRY_PRODUCTS,\n",
    "        FOOD_CATEGORY_SOUPS_SAUCES_AND_GRAVIES,\n",
    "        FOOD_CATEGORY_SAUSAGES_AND_LUNCHEON_MEATS,\n",
    "        FOOD_CATEGORY_FRUITS_AND_FRUIT_JUICES,\n",
    "        FOOD_CATEGORY_VEGETABLES_AND_VEGETABLE_PRODUCTS,\n",
    "        FOOD_CATEGORY_NUT_AND_SEED_PRODUCTS,\n",
    "        FOOD_CATEGORY_BEEF_PRODUCTS,\n",
    "        FOOD_CATEGORY_BEVERAGES,\n",
    "        FOOD_CATEGORY_FINFISH_AND_SHELLFISH_PRODUCTS,\n",
    "        FOOD_CATEGORY_LEGUMES_AND_LEGUME_PRODUCTS,\n",
    "        FOOD_CATEGORY_LAMB_VEAL_AND_GAME_PRODUCTS,\n",
    "        FOOD_CATEGORY_BAKED_PRODUCTS,\n",
    "        FOOD_CATEGORY_CEREAL_GRAINS_AND_PASTA,\n",
    "        FOOD_CATEGORY_FAST_FOODS,\n",
    "        FOOD_CATEGORY_RESTAURANT_FOODS,\n",
    "    },\n",
    "}\n",
    "\n",
    "\n",
    "def category_id_mapper(cat):\n",
    "    return FOOD_CATEGORY_ID_MAPPING[cat]\n",
    "\n",
    "\n",
    "wanted_category_ids = list(map(\n",
    "    category_id_mapper,\n",
    "    reduce(\n",
    "        lambda x, y: x.union(y),\n",
    "        [\n",
    "            MEAL_FOOD_CATEGORY_MAPPING[MEAL_BREAKFAST],\n",
    "            MEAL_FOOD_CATEGORY_MAPPING[MEAL_MORNING_SNACK],\n",
    "            MEAL_FOOD_CATEGORY_MAPPING[MEAL_LUNCH],\n",
    "            MEAL_FOOD_CATEGORY_MAPPING[MEAL_AFTERNOON_SNACK],\n",
    "            MEAL_FOOD_CATEGORY_MAPPING[MEAL_DINNER],\n",
    "        ],\n",
    "        set(),\n",
    "    )\n",
    "))"
   ],
   "metadata": {
    "collapsed": false,
    "ExecuteTime": {
     "end_time": "2023-06-29T18:01:11.079379927Z",
     "start_time": "2023-06-29T18:01:10.636860973Z"
    }
   }
  },
  {
   "cell_type": "code",
   "execution_count": 214,
   "outputs": [],
   "source": [
    "# We are going to need this helper function.\n",
    "\n",
    "import re\n",
    "\n",
    "\n",
    "def _contains_any_of_words(text: str, words: typing.List[str]):\n",
    "    for word in words:\n",
    "        if re.search(r\"\\b\" + re.escape(word) + r\"\\b\", text, flags=re.IGNORECASE):\n",
    "            return True\n",
    "\n",
    "    return False"
   ],
   "metadata": {
    "collapsed": false,
    "ExecuteTime": {
     "end_time": "2023-06-29T18:01:11.085378293Z",
     "start_time": "2023-06-29T18:01:10.637197073Z"
    }
   }
  },
  {
   "cell_type": "code",
   "execution_count": 215,
   "outputs": [
    {
     "name": "stdout",
     "output_type": "stream",
     "text": [
      "      fdc_id                                        description  \\\n",
      "0     167512  Pillsbury Golden Layer Buttermilk Biscuits, Ar...   \n",
      "1     167513  Pillsbury, Cinnamon Rolls with Icing, refriger...   \n",
      "2     167514  Kraft Foods, Shake N Bake Original Recipe, Coa...   \n",
      "3     167515     George Weston Bakeries, Thomas English Muffins   \n",
      "4     167516         Waffles, buttermilk, frozen, ready-to-heat   \n",
      "...      ...                                                ...   \n",
      "7788  175300         Game meat, buffalo, water, cooked, roasted   \n",
      "7789  175301                                Game meat, elk, raw   \n",
      "7790  175302                    Game meat, elk, cooked, roasted   \n",
      "7791  175303                               Game meat, goat, raw   \n",
      "7792  175304                   Game meat, goat, cooked, roasted   \n",
      "\n",
      "      food_category_id  \n",
      "0                   18  \n",
      "1                   18  \n",
      "2                   18  \n",
      "3                   18  \n",
      "4                   18  \n",
      "...                ...  \n",
      "7788                17  \n",
      "7789                17  \n",
      "7790                17  \n",
      "7791                17  \n",
      "7792                17  \n",
      "\n",
      "[6229 rows x 3 columns]\n"
     ]
    }
   ],
   "source": [
    "# 1. We drop any food that does not fall into any of these categories.\n",
    "\n",
    "COLUMN_FOOD_CATEGORY_ID = \"food_category_id\"\n",
    "\n",
    "for index, row in foods.iterrows():\n",
    "    if row[COLUMN_FOOD_CATEGORY_ID] not in wanted_category_ids:\n",
    "        foods.drop(index, inplace=True)\n",
    "\n",
    "print(foods)"
   ],
   "metadata": {
    "collapsed": false,
    "ExecuteTime": {
     "end_time": "2023-06-29T18:01:11.588196907Z",
     "start_time": "2023-06-29T18:01:10.637394101Z"
    }
   }
  },
  {
   "cell_type": "code",
   "execution_count": 216,
   "outputs": [
    {
     "name": "stdout",
     "output_type": "stream",
     "text": [
      "      fdc_id                                        description  \\\n",
      "0     167512  Pillsbury Golden Layer Buttermilk Biscuits, Ar...   \n",
      "1     167513  Pillsbury, Cinnamon Rolls with Icing, refriger...   \n",
      "2     167514  Kraft Foods, Shake N Bake Original Recipe, Coa...   \n",
      "3     167515     George Weston Bakeries, Thomas English Muffins   \n",
      "4     167516         Waffles, buttermilk, frozen, ready-to-heat   \n",
      "...      ...                                                ...   \n",
      "7783  175295                 Game meat, beaver, cooked, roasted   \n",
      "7786  175298             Game meat, boar, wild, cooked, roasted   \n",
      "7788  175300         Game meat, buffalo, water, cooked, roasted   \n",
      "7790  175302                    Game meat, elk, cooked, roasted   \n",
      "7792  175304                   Game meat, goat, cooked, roasted   \n",
      "\n",
      "      food_category_id  \n",
      "0                   18  \n",
      "1                   18  \n",
      "2                   18  \n",
      "3                   18  \n",
      "4                   18  \n",
      "...                ...  \n",
      "7783                17  \n",
      "7786                17  \n",
      "7788                17  \n",
      "7790                17  \n",
      "7792                17  \n",
      "\n",
      "[4902 rows x 3 columns]\n"
     ]
    }
   ],
   "source": [
    "# 2. Remove raw foods.\n",
    "\n",
    "COLUMN_DESCRIPTION = \"description\"\n",
    "\n",
    "for index, row in foods.iterrows():\n",
    "    if _contains_any_of_words(row[COLUMN_DESCRIPTION], [\"raw\", \"unprepared\"]):\n",
    "        foods.drop(index, inplace=True)\n",
    "\n",
    "print(foods)"
   ],
   "metadata": {
    "collapsed": false,
    "ExecuteTime": {
     "end_time": "2023-06-29T18:01:12.217212741Z",
     "start_time": "2023-06-29T18:01:11.575051142Z"
    }
   }
  },
  {
   "cell_type": "code",
   "execution_count": 217,
   "outputs": [
    {
     "name": "stdout",
     "output_type": "stream",
     "text": [
      "      fdc_id                                        description  \\\n",
      "0     167512  Pillsbury Golden Layer Buttermilk Biscuits, Ar...   \n",
      "1     167513  Pillsbury, Cinnamon Rolls with Icing, refriger...   \n",
      "2     167514  Kraft Foods, Shake N Bake Original Recipe, Coa...   \n",
      "3     167515     George Weston Bakeries, Thomas English Muffins   \n",
      "4     167516         Waffles, buttermilk, frozen, ready-to-heat   \n",
      "...      ...                                                ...   \n",
      "7783  175295                 Game meat, beaver, cooked, roasted   \n",
      "7786  175298             Game meat, boar, wild, cooked, roasted   \n",
      "7788  175300         Game meat, buffalo, water, cooked, roasted   \n",
      "7790  175302                    Game meat, elk, cooked, roasted   \n",
      "7792  175304                   Game meat, goat, cooked, roasted   \n",
      "\n",
      "      food_category_id  \n",
      "0                   18  \n",
      "1                   18  \n",
      "2                   18  \n",
      "3                   18  \n",
      "4                   18  \n",
      "...                ...  \n",
      "7783                17  \n",
      "7786                17  \n",
      "7788                17  \n",
      "7790                17  \n",
      "7792                17  \n",
      "\n",
      "[4854 rows x 3 columns]\n"
     ]
    }
   ],
   "source": [
    "# 3. In the category 6 (Soups, Sauces, and Gravies), remove items containing the word `sauce`,\n",
    "# since sauces are not independent items.\n",
    "\n",
    "for index, row in foods.iterrows():\n",
    "    if row[COLUMN_FOOD_CATEGORY_ID] == category_id_mapper(FOOD_CATEGORY_SOUPS_SAUCES_AND_GRAVIES):\n",
    "        if _contains_any_of_words(row[COLUMN_DESCRIPTION], [\"sauce\"]):\n",
    "            foods.drop(index, inplace=True)\n",
    "\n",
    "print(foods)"
   ],
   "metadata": {
    "collapsed": false,
    "ExecuteTime": {
     "end_time": "2023-06-29T18:01:12.409325706Z",
     "start_time": "2023-06-29T18:01:12.259543729Z"
    }
   }
  },
  {
   "cell_type": "code",
   "execution_count": 218,
   "outputs": [
    {
     "name": "stdout",
     "output_type": "stream",
     "text": [
      "      fdc_id                                        description  \\\n",
      "0     167512  Pillsbury Golden Layer Buttermilk Biscuits, Ar...   \n",
      "1     167513  Pillsbury, Cinnamon Rolls with Icing, refriger...   \n",
      "3     167515     George Weston Bakeries, Thomas English Muffins   \n",
      "4     167516         Waffles, buttermilk, frozen, ready-to-heat   \n",
      "5     167517  Waffle, buttermilk, frozen, ready-to-heat, toa...   \n",
      "...      ...                                                ...   \n",
      "7783  175295                 Game meat, beaver, cooked, roasted   \n",
      "7786  175298             Game meat, boar, wild, cooked, roasted   \n",
      "7788  175300         Game meat, buffalo, water, cooked, roasted   \n",
      "7790  175302                    Game meat, elk, cooked, roasted   \n",
      "7792  175304                   Game meat, goat, cooked, roasted   \n",
      "\n",
      "      food_category_id  \n",
      "0                   18  \n",
      "1                   18  \n",
      "3                   18  \n",
      "4                   18  \n",
      "5                   18  \n",
      "...                ...  \n",
      "7783                17  \n",
      "7786                17  \n",
      "7788                17  \n",
      "7790                17  \n",
      "7792                17  \n",
      "\n",
      "[4619 rows x 3 columns]\n"
     ]
    }
   ],
   "source": [
    "# 4. Remove items containing these words since those items are not easily accessible in our geographic area.\n",
    "\n",
    "for index, row in foods.iterrows():\n",
    "    if _contains_any_of_words(\n",
    "            row[COLUMN_DESCRIPTION],\n",
    "            [\n",
    "                \"quail\", \"pheasant\", \"dove\", \"squab\", \"goose\", \"duck\", \"guinea hen\", \"grouse\", \"emu\", \"ostrich\",\n",
    "                \"ham\", \"pork\", \"bacon\", \"alcohol\", \"alcoholic\", \"beer\", \"wine\", \"whiskey\", \"gin\", \"rum\",\n",
    "                \"vodka\", \"liquor\",\n",
    "            ],\n",
    "    ):\n",
    "        foods.drop(index, inplace=True)\n",
    "\n",
    "print(foods)"
   ],
   "metadata": {
    "collapsed": false,
    "ExecuteTime": {
     "end_time": "2023-06-29T18:01:12.862079658Z",
     "start_time": "2023-06-29T18:01:12.413843983Z"
    }
   }
  },
  {
   "cell_type": "code",
   "execution_count": 219,
   "outputs": [
    {
     "name": "stdout",
     "output_type": "stream",
     "text": [
      "      fdc_id                                        description  \\\n",
      "0     167512  Pillsbury Golden Layer Buttermilk Biscuits, Ar...   \n",
      "1     167513  Pillsbury, Cinnamon Rolls with Icing, refriger...   \n",
      "3     167515     George Weston Bakeries, Thomas English Muffins   \n",
      "4     167516         Waffles, buttermilk, frozen, ready-to-heat   \n",
      "5     167517  Waffle, buttermilk, frozen, ready-to-heat, toa...   \n",
      "...      ...                                                ...   \n",
      "7783  175295                 Game meat, beaver, cooked, roasted   \n",
      "7786  175298             Game meat, boar, wild, cooked, roasted   \n",
      "7788  175300         Game meat, buffalo, water, cooked, roasted   \n",
      "7790  175302                    Game meat, elk, cooked, roasted   \n",
      "7792  175304                   Game meat, goat, cooked, roasted   \n",
      "\n",
      "      food_category_id  \n",
      "0                   18  \n",
      "1                   18  \n",
      "3                   18  \n",
      "4                   18  \n",
      "5                   18  \n",
      "...                ...  \n",
      "7783                17  \n",
      "7786                17  \n",
      "7788                17  \n",
      "7790                17  \n",
      "7792                17  \n",
      "\n",
      "[4500 rows x 3 columns]\n"
     ]
    }
   ],
   "source": [
    "# 5. In the category 15 (Finfish and Shellfish Products), remove items not containing any of these words\n",
    "# since those items are not easily accessible in our geographic area.\n",
    "\n",
    "for index, row in foods.iterrows():\n",
    "    if row[COLUMN_FOOD_CATEGORY_ID] == category_id_mapper(FOOD_CATEGORY_FINFISH_AND_SHELLFISH_PRODUCTS):\n",
    "        if not _contains_any_of_words(row[COLUMN_DESCRIPTION], [\"salmon\", \"tuna\", \"shrimp\"]):\n",
    "            foods.drop(index, inplace=True)\n",
    "\n",
    "print(foods)"
   ],
   "metadata": {
    "collapsed": false,
    "ExecuteTime": {
     "end_time": "2023-06-29T18:01:13.061837550Z",
     "start_time": "2023-06-29T18:01:12.868465051Z"
    }
   }
  },
  {
   "cell_type": "code",
   "execution_count": 220,
   "outputs": [
    {
     "name": "stdout",
     "output_type": "stream",
     "text": [
      "      fdc_id                                        description  \\\n",
      "0     167512  Pillsbury Golden Layer Buttermilk Biscuits, Ar...   \n",
      "1     167513  Pillsbury, Cinnamon Rolls with Icing, refriger...   \n",
      "3     167515     George Weston Bakeries, Thomas English Muffins   \n",
      "4     167516         Waffles, buttermilk, frozen, ready-to-heat   \n",
      "5     167517  Waffle, buttermilk, frozen, ready-to-heat, toa...   \n",
      "...      ...                                                ...   \n",
      "7773  175285  Veal, shoulder, blade, separable lean only, co...   \n",
      "7775  175287  Veal, sirloin, separable lean and fat, cooked,...   \n",
      "7776  175288  Veal, sirloin, separable lean and fat, cooked,...   \n",
      "7777  175289  Veal, cubed for stew (leg and shoulder), separ...   \n",
      "7779  175291                      Veal, ground, cooked, broiled   \n",
      "\n",
      "      food_category_id  \n",
      "0                   18  \n",
      "1                   18  \n",
      "3                   18  \n",
      "4                   18  \n",
      "5                   18  \n",
      "...                ...  \n",
      "7773                17  \n",
      "7775                17  \n",
      "7776                17  \n",
      "7777                17  \n",
      "7779                17  \n",
      "\n",
      "[4466 rows x 3 columns]\n"
     ]
    }
   ],
   "source": [
    "# 6. In the category 17 (Lamb, Veal, and Game Products), remove items containing the word `game`,\n",
    "# since those items are not easily accessible in our geographic area.\n",
    "\n",
    "for index, row in foods.iterrows():\n",
    "    if row[COLUMN_FOOD_CATEGORY_ID] == category_id_mapper(FOOD_CATEGORY_LAMB_VEAL_AND_GAME_PRODUCTS):\n",
    "        if _contains_any_of_words(row[COLUMN_DESCRIPTION], [\"game\"]):\n",
    "            foods.drop(index, inplace=True)\n",
    "\n",
    "print(foods)"
   ],
   "metadata": {
    "collapsed": false,
    "ExecuteTime": {
     "end_time": "2023-06-29T18:01:13.236204892Z",
     "start_time": "2023-06-29T18:01:13.123428600Z"
    }
   }
  },
  {
   "cell_type": "code",
   "execution_count": 221,
   "outputs": [
    {
     "name": "stdout",
     "output_type": "stream",
     "text": [
      "      fdc_id                                        description  \\\n",
      "14    167526  Bread, salvadoran sweet cheese (quesadilla sal...   \n",
      "15    167527    Bread, pound cake type, pan de torta salvadoran   \n",
      "20    167532                                 Bread, white wheat   \n",
      "24    167536             Snacks, beef jerky, chopped and formed   \n",
      "25    167537         Snacks, corn-based, extruded, chips, plain   \n",
      "...      ...                                                ...   \n",
      "7773  175285  Veal, shoulder, blade, separable lean only, co...   \n",
      "7775  175287  Veal, sirloin, separable lean and fat, cooked,...   \n",
      "7776  175288  Veal, sirloin, separable lean and fat, cooked,...   \n",
      "7777  175289  Veal, cubed for stew (leg and shoulder), separ...   \n",
      "7779  175291                      Veal, ground, cooked, broiled   \n",
      "\n",
      "      food_category_id  \n",
      "14                  18  \n",
      "15                  18  \n",
      "20                  18  \n",
      "24                  23  \n",
      "25                  23  \n",
      "...                ...  \n",
      "7773                17  \n",
      "7775                17  \n",
      "7776                17  \n",
      "7777                17  \n",
      "7779                17  \n",
      "\n",
      "[4032 rows x 3 columns]\n"
     ]
    }
   ],
   "source": [
    "# 7. In the category 18 (Baked Products), remove items not containing the word `bread`,\n",
    "# since those items are not easily accessible in our geographic area.\n",
    "\n",
    "for index, row in foods.iterrows():\n",
    "    if row[COLUMN_FOOD_CATEGORY_ID] == category_id_mapper(FOOD_CATEGORY_BAKED_PRODUCTS):\n",
    "        if not _contains_any_of_words(row[COLUMN_DESCRIPTION], [\"bread\"]):\n",
    "            foods.drop(index, inplace=True)\n",
    "\n",
    "print(foods)"
   ],
   "metadata": {
    "collapsed": false,
    "ExecuteTime": {
     "end_time": "2023-06-29T18:01:13.529940146Z",
     "start_time": "2023-06-29T18:01:13.234176209Z"
    }
   }
  },
  {
   "cell_type": "code",
   "execution_count": 222,
   "outputs": [
    {
     "name": "stdout",
     "output_type": "stream",
     "text": [
      "      fdc_id                                        description  \\\n",
      "14    167526  Bread, salvadoran sweet cheese (quesadilla sal...   \n",
      "15    167527    Bread, pound cake type, pan de torta salvadoran   \n",
      "20    167532                                 Bread, white wheat   \n",
      "24    167536             Snacks, beef jerky, chopped and formed   \n",
      "25    167537         Snacks, corn-based, extruded, chips, plain   \n",
      "...      ...                                                ...   \n",
      "7773  175285  Veal, shoulder, blade, separable lean only, co...   \n",
      "7775  175287  Veal, sirloin, separable lean and fat, cooked,...   \n",
      "7776  175288  Veal, sirloin, separable lean and fat, cooked,...   \n",
      "7777  175289  Veal, cubed for stew (leg and shoulder), separ...   \n",
      "7779  175291                      Veal, ground, cooked, broiled   \n",
      "\n",
      "      food_category_id  \n",
      "14                  18  \n",
      "15                  18  \n",
      "20                  18  \n",
      "24                  23  \n",
      "25                  23  \n",
      "...                ...  \n",
      "7773                17  \n",
      "7775                17  \n",
      "7776                17  \n",
      "7777                17  \n",
      "7779                17  \n",
      "\n",
      "[3934 rows x 3 columns]\n"
     ]
    }
   ],
   "source": [
    "# 8. In the category 20 (Cereal Grains and Pasta), remove items not containing any of these word,\n",
    "# since those items are not usually consumed directly.\n",
    "\n",
    "for index, row in foods.iterrows():\n",
    "    if row[COLUMN_FOOD_CATEGORY_ID] == category_id_mapper(FOOD_CATEGORY_CEREAL_GRAINS_AND_PASTA):\n",
    "        if not _contains_any_of_words(\n",
    "                row[COLUMN_DESCRIPTION],\n",
    "                [\"rice\", \"pasta\", \"macaroni\", \"noodles\", \"spaghetti\"],\n",
    "        ):\n",
    "            foods.drop(index, inplace=True)\n",
    "\n",
    "print(foods)"
   ],
   "metadata": {
    "collapsed": false,
    "ExecuteTime": {
     "end_time": "2023-06-29T18:01:13.708236979Z",
     "start_time": "2023-06-29T18:01:13.540203935Z"
    }
   }
  },
  {
   "cell_type": "markdown",
   "source": [
    "#### Add Required Columns"
   ],
   "metadata": {
    "collapsed": false
   }
  },
  {
   "cell_type": "code",
   "execution_count": 223,
   "outputs": [
    {
     "name": "stdout",
     "output_type": "stream",
     "text": [
      "      fdc_id                                        description  \\\n",
      "14    167526  Bread, salvadoran sweet cheese (quesadilla sal...   \n",
      "15    167527    Bread, pound cake type, pan de torta salvadoran   \n",
      "20    167532                                 Bread, white wheat   \n",
      "24    167536             Snacks, beef jerky, chopped and formed   \n",
      "25    167537         Snacks, corn-based, extruded, chips, plain   \n",
      "...      ...                                                ...   \n",
      "7773  175285  Veal, shoulder, blade, separable lean only, co...   \n",
      "7775  175287  Veal, sirloin, separable lean and fat, cooked,...   \n",
      "7776  175288  Veal, sirloin, separable lean and fat, cooked,...   \n",
      "7777  175289  Veal, cubed for stew (leg and shoulder), separ...   \n",
      "7779  175291                      Veal, ground, cooked, broiled   \n",
      "\n",
      "      food_category_id  is_breakfast  is_morning_snack  is_lunch  \\\n",
      "14                  18             1                 1         1   \n",
      "15                  18             1                 1         1   \n",
      "20                  18             1                 1         1   \n",
      "24                  23             0                 1         0   \n",
      "25                  23             0                 1         0   \n",
      "...                ...           ...               ...       ...   \n",
      "7773                17             0                 0         1   \n",
      "7775                17             0                 0         1   \n",
      "7776                17             0                 0         1   \n",
      "7777                17             0                 0         1   \n",
      "7779                17             0                 0         1   \n",
      "\n",
      "      is_afternoon_snack  is_dinner  \n",
      "14                     1          1  \n",
      "15                     1          1  \n",
      "20                     1          1  \n",
      "24                     1          0  \n",
      "25                     1          0  \n",
      "...                  ...        ...  \n",
      "7773                   0          1  \n",
      "7775                   0          1  \n",
      "7776                   0          1  \n",
      "7777                   0          1  \n",
      "7779                   0          1  \n",
      "\n",
      "[3934 rows x 8 columns]\n"
     ]
    }
   ],
   "source": [
    "# 1. Add five boolean columns to express whether this food can be consumed in each of five meals.\n",
    "\n",
    "COLUMN_IS_BREAKFAST = \"is_breakfast\"\n",
    "COLUMN_IS_MORNING_SNACK = \"is_morning_snack\"\n",
    "COLUMN_IS_LUNCH = \"is_lunch\"\n",
    "COLUMN_IS_AFTERNOON_SNACK = \"is_afternoon_snack\"\n",
    "COLUMN_IS_DINNER = \"is_dinner\"\n",
    "\n",
    "foods[COLUMN_IS_BREAKFAST] = 0\n",
    "foods[COLUMN_IS_MORNING_SNACK] = 0\n",
    "foods[COLUMN_IS_LUNCH] = 0\n",
    "foods[COLUMN_IS_AFTERNOON_SNACK] = 0\n",
    "foods[COLUMN_IS_DINNER] = 0\n",
    "\n",
    "for index, row in foods.iterrows():\n",
    "    if row[COLUMN_FOOD_CATEGORY_ID] in list(map(category_id_mapper, MEAL_FOOD_CATEGORY_MAPPING[MEAL_BREAKFAST])):\n",
    "        foods.at[index, COLUMN_IS_BREAKFAST] = 1\n",
    "\n",
    "    if row[COLUMN_FOOD_CATEGORY_ID] in list(map(category_id_mapper, MEAL_FOOD_CATEGORY_MAPPING[MEAL_MORNING_SNACK])):\n",
    "        foods.at[index, COLUMN_IS_MORNING_SNACK] = 1\n",
    "\n",
    "    if row[COLUMN_FOOD_CATEGORY_ID] in list(map(category_id_mapper, MEAL_FOOD_CATEGORY_MAPPING[MEAL_LUNCH])):\n",
    "        foods.at[index, COLUMN_IS_LUNCH] = 1\n",
    "\n",
    "    if row[COLUMN_FOOD_CATEGORY_ID] in list(map(category_id_mapper, MEAL_FOOD_CATEGORY_MAPPING[MEAL_AFTERNOON_SNACK])):\n",
    "        foods.at[index, COLUMN_IS_AFTERNOON_SNACK] = 1\n",
    "\n",
    "    if row[COLUMN_FOOD_CATEGORY_ID] in list(map(category_id_mapper, MEAL_FOOD_CATEGORY_MAPPING[MEAL_DINNER])):\n",
    "        foods.at[index, COLUMN_IS_DINNER] = 1\n",
    "\n",
    "print(foods)"
   ],
   "metadata": {
    "collapsed": false,
    "ExecuteTime": {
     "end_time": "2023-06-29T18:01:14.121707020Z",
     "start_time": "2023-06-29T18:01:13.712583741Z"
    }
   }
  },
  {
   "cell_type": "code",
   "execution_count": 224,
   "outputs": [
    {
     "name": "stdout",
     "output_type": "stream",
     "text": [
      "      fdc_id                                        description  \\\n",
      "14    167526  Bread, salvadoran sweet cheese (quesadilla sal...   \n",
      "15    167527    Bread, pound cake type, pan de torta salvadoran   \n",
      "20    167532                                 Bread, white wheat   \n",
      "24    167536             Snacks, beef jerky, chopped and formed   \n",
      "25    167537         Snacks, corn-based, extruded, chips, plain   \n",
      "...      ...                                                ...   \n",
      "7773  175285  Veal, shoulder, blade, separable lean only, co...   \n",
      "7775  175287  Veal, sirloin, separable lean and fat, cooked,...   \n",
      "7776  175288  Veal, sirloin, separable lean and fat, cooked,...   \n",
      "7777  175289  Veal, cubed for stew (leg and shoulder), separ...   \n",
      "7779  175291                      Veal, ground, cooked, broiled   \n",
      "\n",
      "      food_category_id  is_breakfast  is_morning_snack  is_lunch  \\\n",
      "14                  18             1                 1         1   \n",
      "15                  18             1                 1         1   \n",
      "20                  18             1                 1         1   \n",
      "24                  23             0                 1         0   \n",
      "25                  23             0                 1         0   \n",
      "...                ...           ...               ...       ...   \n",
      "7773                17             0                 0         1   \n",
      "7775                17             0                 0         1   \n",
      "7776                17             0                 0         1   \n",
      "7777                17             0                 0         1   \n",
      "7779                17             0                 0         1   \n",
      "\n",
      "      is_afternoon_snack  is_dinner  is_beverage  \n",
      "14                     1          1            0  \n",
      "15                     1          1            0  \n",
      "20                     1          1            0  \n",
      "24                     1          0            0  \n",
      "25                     1          0            0  \n",
      "...                  ...        ...          ...  \n",
      "7773                   0          1            0  \n",
      "7775                   0          1            0  \n",
      "7776                   0          1            0  \n",
      "7777                   0          1            0  \n",
      "7779                   0          1            0  \n",
      "\n",
      "[3934 rows x 9 columns]\n"
     ]
    }
   ],
   "source": [
    "# 2. Add a boolean column to express whether this food is a beverage or not.\n",
    "\n",
    "COLUMN_IS_BEVERAGE = \"is_beverage\"\n",
    "\n",
    "foods[COLUMN_IS_BEVERAGE] = 0\n",
    "\n",
    "for index, row in foods.iterrows():\n",
    "    if (\n",
    "            (\n",
    "                    row[COLUMN_FOOD_CATEGORY_ID] ==\n",
    "                    category_id_mapper(FOOD_CATEGORY_FRUITS_AND_FRUIT_JUICES) and\n",
    "                    _contains_any_of_words(row[COLUMN_DESCRIPTION], [\"juice\", \"nectar\"])\n",
    "            ) or\n",
    "            (\n",
    "                    row[COLUMN_FOOD_CATEGORY_ID] ==\n",
    "                    category_id_mapper(FOOD_CATEGORY_BEVERAGES)\n",
    "            )\n",
    "    ):\n",
    "        foods.at[index, COLUMN_IS_BEVERAGE] = 1\n",
    "\n",
    "print(foods)"
   ],
   "metadata": {
    "collapsed": false,
    "ExecuteTime": {
     "end_time": "2023-06-29T18:01:14.309535252Z",
     "start_time": "2023-06-29T18:01:14.133068473Z"
    }
   }
  },
  {
   "cell_type": "code",
   "execution_count": 225,
   "outputs": [
    {
     "name": "stdout",
     "output_type": "stream",
     "text": [
      "      fdc_id                                        description  \\\n",
      "14    167526  Bread, salvadoran sweet cheese (quesadilla sal...   \n",
      "15    167527    Bread, pound cake type, pan de torta salvadoran   \n",
      "20    167532                                 Bread, white wheat   \n",
      "24    167536             Snacks, beef jerky, chopped and formed   \n",
      "25    167537         Snacks, corn-based, extruded, chips, plain   \n",
      "...      ...                                                ...   \n",
      "7773  175285  Veal, shoulder, blade, separable lean only, co...   \n",
      "7775  175287  Veal, sirloin, separable lean and fat, cooked,...   \n",
      "7776  175288  Veal, sirloin, separable lean and fat, cooked,...   \n",
      "7777  175289  Veal, cubed for stew (leg and shoulder), separ...   \n",
      "7779  175291                      Veal, ground, cooked, broiled   \n",
      "\n",
      "      food_category_id  is_breakfast  is_morning_snack  is_lunch  \\\n",
      "14                  18             1                 1         1   \n",
      "15                  18             1                 1         1   \n",
      "20                  18             1                 1         1   \n",
      "24                  23             0                 1         0   \n",
      "25                  23             0                 1         0   \n",
      "...                ...           ...               ...       ...   \n",
      "7773                17             0                 0         1   \n",
      "7775                17             0                 0         1   \n",
      "7776                17             0                 0         1   \n",
      "7777                17             0                 0         1   \n",
      "7779                17             0                 0         1   \n",
      "\n",
      "      is_afternoon_snack  is_dinner  is_beverage  sugar  calcium  potassium  \\\n",
      "14                     1          1            0  24.90     73.0      350.0   \n",
      "15                     1          1            0  18.10     46.0      210.0   \n",
      "20                     1          1            0   5.00    684.0      127.0   \n",
      "24                     1          0            0   9.00     20.0      597.0   \n",
      "25                     1          0            0   0.27    138.0      144.0   \n",
      "...                  ...        ...          ...    ...      ...        ...   \n",
      "7773                   0          1            0    NaN     28.0      310.0   \n",
      "7775                   0          1            0    NaN     17.0      321.0   \n",
      "7776                   0          1            0   0.00     13.0      351.0   \n",
      "7777                   0          1            0    NaN     29.0      342.0   \n",
      "7779                   0          1            0   0.00     17.0      337.0   \n",
      "\n",
      "        fat  iron  sodium  protein  vitamin_c  cholesterol  carbohydrate  \\\n",
      "14    17.12  0.98   510.0     7.12        0.0         59.0         47.84   \n",
      "15    17.45  2.20   390.0     7.06        NaN          NaN         51.29   \n",
      "20     2.15  4.89   478.0    10.66        0.0          0.0         43.91   \n",
      "24    25.60  5.42  1785.0    33.20        0.0         48.0         11.00   \n",
      "25    33.36  1.20   514.0     6.17        0.0          0.0         57.27   \n",
      "...     ...   ...     ...      ...        ...          ...           ...   \n",
      "7773   6.88  1.00   102.0    25.64        0.0        119.0          0.00   \n",
      "7775  13.14  1.20    79.0    31.26        0.0        108.0          0.00   \n",
      "7776  10.45  0.92    83.0    25.14        0.0        102.0          0.00   \n",
      "7777   4.31  1.44    93.0    34.94        0.0        145.0          0.00   \n",
      "7779   7.56  0.99    83.0    24.38        0.0        103.0          0.00   \n",
      "\n",
      "      calories  \n",
      "14       374.0  \n",
      "15       390.0  \n",
      "20       238.0  \n",
      "24       410.0  \n",
      "25       539.0  \n",
      "...        ...  \n",
      "7773     171.0  \n",
      "7775     252.0  \n",
      "7776     202.0  \n",
      "7777     188.0  \n",
      "7779     172.0  \n",
      "\n",
      "[3934 rows x 20 columns]\n"
     ]
    }
   ],
   "source": [
    "# 3. With file `food_nutrients.csv` find the values of the following nutrients.\n",
    "\n",
    "NUTRITIONAL_ITEM_CALORIES = \"calories\"\n",
    "NUTRITIONAL_ITEM_PROTEIN = \"protein\"\n",
    "NUTRITIONAL_ITEM_FAT = \"fat\"\n",
    "NUTRITIONAL_ITEM_CHOLESTEROL = \"cholesterol\"\n",
    "NUTRITIONAL_ITEM_CARBOHYDRATE = \"carbohydrate\"\n",
    "NUTRITIONAL_ITEM_SUGAR = \"sugar\"\n",
    "NUTRITIONAL_ITEM_SODIUM = \"sodium\"\n",
    "NUTRITIONAL_ITEM_CALCIUM = \"calcium\"\n",
    "NUTRITIONAL_ITEM_IRON = \"iron\"\n",
    "NUTRITIONAL_ITEM_POTASSIUM = \"potassium\"\n",
    "NUTRITIONAL_ITEM_VITAMIN_C = \"vitamin_c\"\n",
    "\n",
    "NUTRITIONAL_ITEMS = [\n",
    "    NUTRITIONAL_ITEM_CALORIES,\n",
    "    NUTRITIONAL_ITEM_PROTEIN,\n",
    "    NUTRITIONAL_ITEM_FAT,\n",
    "    NUTRITIONAL_ITEM_CHOLESTEROL,\n",
    "    NUTRITIONAL_ITEM_CARBOHYDRATE,\n",
    "    NUTRITIONAL_ITEM_SUGAR,\n",
    "    NUTRITIONAL_ITEM_SODIUM,\n",
    "    NUTRITIONAL_ITEM_CALCIUM,\n",
    "    NUTRITIONAL_ITEM_IRON,\n",
    "    NUTRITIONAL_ITEM_POTASSIUM,\n",
    "    NUTRITIONAL_ITEM_VITAMIN_C,\n",
    "]\n",
    "\n",
    "COLUMN_CALORIES = \"calories\"\n",
    "COLUMN_PROTEIN = \"protein\"\n",
    "COLUMN_FAT = \"fat\"\n",
    "COLUMN_CHOLESTEROL = \"cholesterol\"\n",
    "COLUMN_CARBOHYDRATE = \"carbohydrate\"\n",
    "COLUMN_SUGAR = \"sugar\"\n",
    "COLUMN_SODIUM = \"sodium\"\n",
    "COLUMN_CALCIUM = \"calcium\"\n",
    "COLUMN_IRON = \"iron\"\n",
    "COLUMN_POTASSIUM = \"potassium\"\n",
    "COLUMN_VITAMIN_C = \"vitamin_c\"\n",
    "COLUMN_FDC_ID = \"fdc_id\"\n",
    "COLUMN_NUTRIENT_ID = \"nutrient_id\"\n",
    "COLUMN_AMOUNT = \"amount\"\n",
    "\n",
    "# From nutrients.csv\n",
    "NUTRITIONAL_ITEM_ID_MAPPING = {\n",
    "    NUTRITIONAL_ITEM_CALORIES: 1008,\n",
    "    NUTRITIONAL_ITEM_PROTEIN: 1003,\n",
    "    NUTRITIONAL_ITEM_FAT: 1004,\n",
    "    NUTRITIONAL_ITEM_CHOLESTEROL: 1253,\n",
    "    NUTRITIONAL_ITEM_CARBOHYDRATE: 1005,\n",
    "    NUTRITIONAL_ITEM_SUGAR: 2000,\n",
    "    NUTRITIONAL_ITEM_SODIUM: 1093,\n",
    "    NUTRITIONAL_ITEM_CALCIUM: 1087,\n",
    "    NUTRITIONAL_ITEM_IRON: 1089,\n",
    "    NUTRITIONAL_ITEM_POTASSIUM: 1092,\n",
    "    NUTRITIONAL_ITEM_VITAMIN_C: 1162,\n",
    "}\n",
    "\n",
    "food_nutrients = pd.read_csv(input_dir / \"food_nutrient.csv\")\n",
    "\n",
    "for index, row in foods.iterrows():\n",
    "    fdc_id = row[COLUMN_FDC_ID]\n",
    "    current_food_nutrients = food_nutrients[food_nutrients[COLUMN_FDC_ID] == fdc_id]\n",
    "    food_nutrients = food_nutrients[food_nutrients[COLUMN_FDC_ID] != fdc_id]\n",
    "\n",
    "    for _, nutrients_row in current_food_nutrients.iterrows():\n",
    "        for key in NUTRITIONAL_ITEMS:\n",
    "            if nutrients_row[COLUMN_NUTRIENT_ID] == NUTRITIONAL_ITEM_ID_MAPPING[key]:\n",
    "                foods.at[index, key] = nutrients_row[COLUMN_AMOUNT]\n",
    "\n",
    "print(foods)"
   ],
   "metadata": {
    "collapsed": false,
    "ExecuteTime": {
     "end_time": "2023-06-29T18:02:31.359818684Z",
     "start_time": "2023-06-29T18:01:14.312504578Z"
    }
   }
  },
  {
   "cell_type": "markdown",
   "source": [
    "#### Remove Missing Values"
   ],
   "metadata": {
    "collapsed": false
   }
  },
  {
   "cell_type": "code",
   "execution_count": 226,
   "outputs": [
    {
     "name": "stdout",
     "output_type": "stream",
     "text": [
      "      fdc_id                                        description  \\\n",
      "0     167526  Bread, salvadoran sweet cheese (quesadilla sal...   \n",
      "1     167532                                 Bread, white wheat   \n",
      "2     167536             Snacks, beef jerky, chopped and formed   \n",
      "3     167537         Snacks, corn-based, extruded, chips, plain   \n",
      "4     167542                  Snacks, granola bars, hard, plain   \n",
      "...      ...                                                ...   \n",
      "2873  175274   Veal, loin, separable lean only, cooked, roasted   \n",
      "2874  175276  Veal, rib, separable lean and fat, cooked, bra...   \n",
      "2875  175278  Veal, shoulder, whole (arm and blade), separab...   \n",
      "2876  175288  Veal, sirloin, separable lean and fat, cooked,...   \n",
      "2877  175291                      Veal, ground, cooked, broiled   \n",
      "\n",
      "      food_category_id  is_breakfast  is_morning_snack  is_lunch  \\\n",
      "0                   18             1                 1         1   \n",
      "1                   18             1                 1         1   \n",
      "2                   23             0                 1         0   \n",
      "3                   23             0                 1         0   \n",
      "4                   23             0                 1         0   \n",
      "...                ...           ...               ...       ...   \n",
      "2873                17             0                 0         1   \n",
      "2874                17             0                 0         1   \n",
      "2875                17             0                 0         1   \n",
      "2876                17             0                 0         1   \n",
      "2877                17             0                 0         1   \n",
      "\n",
      "      is_afternoon_snack  is_dinner  is_beverage  sugar  calcium  potassium  \\\n",
      "0                      1          1            0  24.90     73.0      350.0   \n",
      "1                      1          1            0   5.00    684.0      127.0   \n",
      "2                      1          0            0   9.00     20.0      597.0   \n",
      "3                      1          0            0   0.27    138.0      144.0   \n",
      "4                      1          0            0  28.57     61.0      336.0   \n",
      "...                  ...        ...          ...    ...      ...        ...   \n",
      "2873                   0          1            0   0.00     21.0      340.0   \n",
      "2874                   0          1            0   0.00     22.0      306.0   \n",
      "2875                   0          1            0   0.00     35.0      309.0   \n",
      "2876                   0          1            0   0.00     13.0      351.0   \n",
      "2877                   0          1            0   0.00     17.0      337.0   \n",
      "\n",
      "        fat  iron  sodium  protein  vitamin_c  cholesterol  carbohydrate  \\\n",
      "0     17.12  0.98   510.0     7.12        0.0         59.0         47.84   \n",
      "1      2.15  4.89   478.0    10.66        0.0          0.0         43.91   \n",
      "2     25.60  5.42  1785.0    33.20        0.0         48.0         11.00   \n",
      "3     33.36  1.20   514.0     6.17        0.0          0.0         57.27   \n",
      "4     19.80  2.95   294.0    10.10        0.9          0.0         64.40   \n",
      "...     ...   ...     ...      ...        ...          ...           ...   \n",
      "2873   6.94  0.85    96.0    26.32        0.0        106.0          0.00   \n",
      "2874  12.53  1.41    95.0    32.43        0.0        139.0          0.00   \n",
      "2875  10.14  1.42    95.0    32.06        0.0        126.0          0.00   \n",
      "2876  10.45  0.92    83.0    25.14        0.0        102.0          0.00   \n",
      "2877   7.56  0.99    83.0    24.38        0.0        103.0          0.00   \n",
      "\n",
      "      calories  \n",
      "0        374.0  \n",
      "1        238.0  \n",
      "2        410.0  \n",
      "3        539.0  \n",
      "4        471.0  \n",
      "...        ...  \n",
      "2873     175.0  \n",
      "2874     251.0  \n",
      "2875     228.0  \n",
      "2876     202.0  \n",
      "2877     172.0  \n",
      "\n",
      "[2878 rows x 20 columns]\n"
     ]
    }
   ],
   "source": [
    "# For any food, if we don't know any of the values mentioned above, we drop that row from foods for more accuracy.\n",
    "\n",
    "foods = foods.dropna(how='any')\n",
    "\n",
    "foods = foods.reset_index(drop=True)\n",
    "\n",
    "print(foods)"
   ],
   "metadata": {
    "collapsed": false,
    "ExecuteTime": {
     "end_time": "2023-06-29T18:02:31.360422180Z",
     "start_time": "2023-06-29T18:02:31.331143225Z"
    }
   }
  },
  {
   "cell_type": "markdown",
   "source": [
    "### LP\n",
    "\n",
    "After We Preprocessed the data, We are able to receive personal info and preferences about a person and find a diet."
   ],
   "metadata": {
    "collapsed": false
   }
  },
  {
   "cell_type": "code",
   "execution_count": 227,
   "outputs": [],
   "source": [
    "# We define the following parameters\n",
    "# - Gender\n",
    "#     - Male\n",
    "#     - Female\n",
    "# - Pregnant (boolean)\n",
    "# - Lactating (boolean)\n",
    "# - Weight (kg)\n",
    "# - Height (cm)\n",
    "# - Age (years)\n",
    "# - Activity Level\n",
    "#     - Sedentary (desk job; little or no exercise)\n",
    "#     - Slightly Active (exercise 1-3 times a week)\n",
    "#     - Moderately Active (exercise 3-5 times a week)\n",
    "#     - Very Active (exercise 6-7 times a week)\n",
    "#     - Extremely Active (physical job or regular training)\n",
    "# - Goal\n",
    "#     - Maintenance (maintaining current weight)\n",
    "#     - Muscle Gain (building muscle mass)\n",
    "#     - Fat Loss (losing body fat)\n",
    "\n",
    "GENDER_MALE = \"male\"\n",
    "GENDER_FEMALE = \"female\"\n",
    "\n",
    "LIFESTYLE_SEDENTARY = \"sedentary\"\n",
    "LIFESTYLE_SLIGHTLY_ACTIVE = \"slightly_active\"\n",
    "LIFESTYLE_MODERATELY_ACTIVE = \"moderately_active\"\n",
    "LIFESTYLE_VERY_ACTIVE = \"very_active\"\n",
    "LIFESTYLE_EXTREMELY_ACTIVE = \"extremely_active\"\n",
    "\n",
    "GOAL_MAINTENANCE = 'maintenance'\n",
    "GOAL_MUSCLE_GAIN = 'muscle_gain'\n",
    "GOAL_FAT_LOSS = 'fat_loss'\n",
    "\n",
    "# We consider these values as an example\n",
    "\n",
    "gender = GENDER_FEMALE\n",
    "weight = 65\n",
    "height = 165\n",
    "age = 23\n",
    "lifestyle = LIFESTYLE_SEDENTARY\n",
    "goal = GOAL_MAINTENANCE\n",
    "pregnant = False\n",
    "lactating = False"
   ],
   "metadata": {
    "collapsed": false,
    "ExecuteTime": {
     "end_time": "2023-06-29T18:02:31.360599841Z",
     "start_time": "2023-06-29T18:02:31.331453952Z"
    }
   }
  },
  {
   "cell_type": "markdown",
   "source": [
    "For each of the nutrients, we create a function to calculate the healthy range of intake per day, based on the parameters."
   ],
   "metadata": {
    "collapsed": false
   }
  },
  {
   "cell_type": "code",
   "execution_count": 228,
   "outputs": [
    {
     "name": "stdout",
     "output_type": "stream",
     "text": [
      "1460.2279999999998\n"
     ]
    }
   ],
   "source": [
    "# Basal Metabolic Rate (BMR)\n",
    "\n",
    "def calculate_bmr(gender, weight, height, age):\n",
    "    if gender == GENDER_FEMALE:\n",
    "        return 447.593 + (9.247 * weight) + (3.098 * height) - (4.330 * age)\n",
    "    if gender == GENDER_MALE:\n",
    "        return 88.362 + (13.397 * weight) + (4.799 * height) - (5.677 * age)\n",
    "\n",
    "\n",
    "bmr = calculate_bmr(gender, weight, height, age)\n",
    "\n",
    "print(bmr)"
   ],
   "metadata": {
    "collapsed": false,
    "ExecuteTime": {
     "end_time": "2023-06-29T18:02:31.360843473Z",
     "start_time": "2023-06-29T18:02:31.331650305Z"
    }
   }
  },
  {
   "cell_type": "code",
   "execution_count": 229,
   "outputs": [
    {
     "name": "stdout",
     "output_type": "stream",
     "text": [
      "1752.2735999999998\n"
     ]
    }
   ],
   "source": [
    "# Total Daily Energy Expenditure (TDEE)\n",
    "\n",
    "def calculate_tdee(bmr, lifestyle, pregnant, lactating):\n",
    "    factor = 1\n",
    "\n",
    "    if pregnant:\n",
    "        factor *= 1.2\n",
    "\n",
    "    if lactating:\n",
    "        factor *= 1.5\n",
    "\n",
    "    if lifestyle == LIFESTYLE_SEDENTARY:\n",
    "        return bmr * 1.2\n",
    "    if lifestyle == LIFESTYLE_SLIGHTLY_ACTIVE:\n",
    "        return bmr * 1.375\n",
    "    if lifestyle == LIFESTYLE_MODERATELY_ACTIVE:\n",
    "        return bmr * 1.55\n",
    "    if lifestyle == LIFESTYLE_VERY_ACTIVE:\n",
    "        return bmr * 1.725\n",
    "    if lifestyle == LIFESTYLE_EXTREMELY_ACTIVE:\n",
    "        return bmr * 1.9\n",
    "\n",
    "\n",
    "tdee = calculate_tdee(bmr, lifestyle, pregnant, lactating)\n",
    "\n",
    "print(tdee)"
   ],
   "metadata": {
    "collapsed": false,
    "ExecuteTime": {
     "end_time": "2023-06-29T18:02:31.361092880Z",
     "start_time": "2023-06-29T18:02:31.331886797Z"
    }
   }
  },
  {
   "cell_type": "code",
   "execution_count": 230,
   "outputs": [
    {
     "name": "stdout",
     "output_type": "stream",
     "text": [
      "(1577.04624, 1927.5009599999998)\n"
     ]
    }
   ],
   "source": [
    "def calculate_calories(tdee, goal):\n",
    "    if goal == GOAL_MAINTENANCE:\n",
    "        return tdee * 0.9, tdee * 1.1\n",
    "\n",
    "    if goal == GOAL_MUSCLE_GAIN:\n",
    "        return tdee * 1.1, tdee * 1.2\n",
    "\n",
    "    if goal == GOAL_FAT_LOSS:\n",
    "        return tdee * 0.8, tdee * 0.9\n",
    "\n",
    "\n",
    "calories_range = calculate_calories(tdee, goal)\n",
    "\n",
    "print(calories_range)"
   ],
   "metadata": {
    "collapsed": false,
    "ExecuteTime": {
     "end_time": "2023-06-29T18:02:31.361282748Z",
     "start_time": "2023-06-29T18:02:31.332075579Z"
    }
   }
  },
  {
   "cell_type": "code",
   "execution_count": 231,
   "outputs": [
    {
     "name": "stdout",
     "output_type": "stream",
     "text": [
      "(52.0, 65.0)\n"
     ]
    }
   ],
   "source": [
    "def calculate_protein(gender, weight, lifestyle, goal, pregnant, lactating):\n",
    "    min_per_kg_body_wight, max_per_kg_body_wight = {\n",
    "        (GENDER_MALE, LIFESTYLE_SEDENTARY, GOAL_MAINTENANCE): (0.8, 1.0),\n",
    "        (GENDER_MALE, LIFESTYLE_SEDENTARY, GOAL_MUSCLE_GAIN): (1.2, 1.5),\n",
    "        (GENDER_MALE, LIFESTYLE_SEDENTARY, GOAL_FAT_LOSS): (1.2, 1.5),\n",
    "        (GENDER_MALE, LIFESTYLE_SLIGHTLY_ACTIVE, GOAL_MAINTENANCE): (0.8, 1.2),\n",
    "        (GENDER_MALE, LIFESTYLE_SLIGHTLY_ACTIVE, GOAL_MUSCLE_GAIN): (1.2, 1.7),\n",
    "        (GENDER_MALE, LIFESTYLE_SLIGHTLY_ACTIVE, GOAL_FAT_LOSS): (1.2, 1.7),\n",
    "        (GENDER_MALE, LIFESTYLE_MODERATELY_ACTIVE, GOAL_MAINTENANCE): (1.0, 1.2),\n",
    "        (GENDER_MALE, LIFESTYLE_MODERATELY_ACTIVE, GOAL_MUSCLE_GAIN): (1.5, 1.7),\n",
    "        (GENDER_MALE, LIFESTYLE_MODERATELY_ACTIVE, GOAL_FAT_LOSS): (1.5, 1.7),\n",
    "        (GENDER_MALE, LIFESTYLE_VERY_ACTIVE, GOAL_MAINTENANCE): (1.0, 1.5),\n",
    "        (GENDER_MALE, LIFESTYLE_VERY_ACTIVE, GOAL_MUSCLE_GAIN): (1.5, 2.0),\n",
    "        (GENDER_MALE, LIFESTYLE_VERY_ACTIVE, GOAL_FAT_LOSS): (1.5, 1.7),\n",
    "        (GENDER_MALE, LIFESTYLE_EXTREMELY_ACTIVE, GOAL_MAINTENANCE): (1.2, 1.5),\n",
    "        (GENDER_MALE, LIFESTYLE_EXTREMELY_ACTIVE, GOAL_MUSCLE_GAIN): (1.7, 2.0),\n",
    "        (GENDER_MALE, LIFESTYLE_EXTREMELY_ACTIVE, GOAL_FAT_LOSS): (1.5, 1.7),\n",
    "\n",
    "        (GENDER_FEMALE, LIFESTYLE_SEDENTARY, GOAL_MAINTENANCE): (0.8, 1.0),\n",
    "        (GENDER_FEMALE, LIFESTYLE_SEDENTARY, GOAL_MUSCLE_GAIN): (1.0, 1.2),\n",
    "        (GENDER_FEMALE, LIFESTYLE_SEDENTARY, GOAL_FAT_LOSS): (1.0, 1.2),\n",
    "        (GENDER_FEMALE, LIFESTYLE_SLIGHTLY_ACTIVE, GOAL_MAINTENANCE): (0.8, 1.0),\n",
    "        (GENDER_FEMALE, LIFESTYLE_SLIGHTLY_ACTIVE, GOAL_MUSCLE_GAIN): (1.0, 1.5),\n",
    "        (GENDER_FEMALE, LIFESTYLE_SLIGHTLY_ACTIVE, GOAL_FAT_LOSS): (1.0, 1.5),\n",
    "        (GENDER_FEMALE, LIFESTYLE_MODERATELY_ACTIVE, GOAL_MAINTENANCE): (0.8, 1.0),\n",
    "        (GENDER_FEMALE, LIFESTYLE_MODERATELY_ACTIVE, GOAL_MUSCLE_GAIN): (1.2, 1.5),\n",
    "        (GENDER_FEMALE, LIFESTYLE_MODERATELY_ACTIVE, GOAL_FAT_LOSS): (1.2, 1.5),\n",
    "        (GENDER_FEMALE, LIFESTYLE_VERY_ACTIVE, GOAL_MAINTENANCE): (0.8, 1.2),\n",
    "        (GENDER_FEMALE, LIFESTYLE_VERY_ACTIVE, GOAL_MUSCLE_GAIN): (1.2, 1.7),\n",
    "        (GENDER_FEMALE, LIFESTYLE_VERY_ACTIVE, GOAL_FAT_LOSS): (1.2, 1.5),\n",
    "        (GENDER_FEMALE, LIFESTYLE_EXTREMELY_ACTIVE, GOAL_MAINTENANCE): (1.0, 1.2),\n",
    "        (GENDER_FEMALE, LIFESTYLE_EXTREMELY_ACTIVE, GOAL_MUSCLE_GAIN): (1.5, 1.7),\n",
    "        (GENDER_FEMALE, LIFESTYLE_EXTREMELY_ACTIVE, GOAL_FAT_LOSS): (1.2, 1.5),\n",
    "    }[gender, lifestyle, goal]\n",
    "\n",
    "    if pregnant:\n",
    "        min_per_kg_body_wight += 0.3\n",
    "        max_per_kg_body_wight += 0.4\n",
    "\n",
    "    if lactating:\n",
    "        min_per_kg_body_wight += 0.2\n",
    "        max_per_kg_body_wight += 0.3\n",
    "\n",
    "    return min_per_kg_body_wight * weight, max_per_kg_body_wight * weight\n",
    "\n",
    "\n",
    "protein_range = calculate_protein(gender, weight, lifestyle, goal, pregnant, lactating)\n",
    "\n",
    "print(protein_range)"
   ],
   "metadata": {
    "collapsed": false,
    "ExecuteTime": {
     "end_time": "2023-06-29T18:02:31.361440022Z",
     "start_time": "2023-06-29T18:02:31.332260001Z"
    }
   }
  },
  {
   "cell_type": "code",
   "execution_count": 232,
   "outputs": [
    {
     "name": "stdout",
     "output_type": "stream",
     "text": [
      "(35.045472, 53.54169333333333)\n"
     ]
    }
   ],
   "source": [
    "def calculate_fat(gender, lifestyle, goal, calories_range):\n",
    "    fat_percentage = {\n",
    "        (GENDER_MALE, LIFESTYLE_SEDENTARY, GOAL_MAINTENANCE): (20, 25),\n",
    "        (GENDER_MALE, LIFESTYLE_SEDENTARY, GOAL_MUSCLE_GAIN): (20, 30),\n",
    "        (GENDER_MALE, LIFESTYLE_SEDENTARY, GOAL_FAT_LOSS): (20, 30),\n",
    "        (GENDER_MALE, LIFESTYLE_SLIGHTLY_ACTIVE, GOAL_MAINTENANCE): (25, 30),\n",
    "        (GENDER_MALE, LIFESTYLE_SLIGHTLY_ACTIVE, GOAL_MUSCLE_GAIN): (20, 30),\n",
    "        (GENDER_MALE, LIFESTYLE_SLIGHTLY_ACTIVE, GOAL_FAT_LOSS): (20, 30),\n",
    "        (GENDER_MALE, LIFESTYLE_MODERATELY_ACTIVE, GOAL_MAINTENANCE): (30, 35),\n",
    "        (GENDER_MALE, LIFESTYLE_MODERATELY_ACTIVE, GOAL_MUSCLE_GAIN): (20, 30),\n",
    "        (GENDER_MALE, LIFESTYLE_MODERATELY_ACTIVE, GOAL_FAT_LOSS): (20, 30),\n",
    "        (GENDER_MALE, LIFESTYLE_VERY_ACTIVE, GOAL_MAINTENANCE): (35, 40),\n",
    "        (GENDER_MALE, LIFESTYLE_VERY_ACTIVE, GOAL_MUSCLE_GAIN): (20, 30),\n",
    "        (GENDER_MALE, LIFESTYLE_VERY_ACTIVE, GOAL_FAT_LOSS): (20, 30),\n",
    "        (GENDER_MALE, LIFESTYLE_EXTREMELY_ACTIVE, GOAL_MAINTENANCE): (40, 45),\n",
    "        (GENDER_MALE, LIFESTYLE_EXTREMELY_ACTIVE, GOAL_MUSCLE_GAIN): (20, 30),\n",
    "        (GENDER_MALE, LIFESTYLE_EXTREMELY_ACTIVE, GOAL_FAT_LOSS): (20, 30),\n",
    "\n",
    "        (GENDER_FEMALE, LIFESTYLE_SEDENTARY, GOAL_MAINTENANCE): (20, 25),\n",
    "        (GENDER_FEMALE, LIFESTYLE_SEDENTARY, GOAL_MUSCLE_GAIN): (20, 30),\n",
    "        (GENDER_FEMALE, LIFESTYLE_SEDENTARY, GOAL_FAT_LOSS): (20, 30),\n",
    "        (GENDER_FEMALE, LIFESTYLE_SLIGHTLY_ACTIVE, GOAL_MAINTENANCE): (25, 30),\n",
    "        (GENDER_FEMALE, LIFESTYLE_SLIGHTLY_ACTIVE, GOAL_MUSCLE_GAIN): (20, 30),\n",
    "        (GENDER_FEMALE, LIFESTYLE_SLIGHTLY_ACTIVE, GOAL_FAT_LOSS): (20, 30),\n",
    "        (GENDER_FEMALE, LIFESTYLE_MODERATELY_ACTIVE, GOAL_MAINTENANCE): (30, 35),\n",
    "        (GENDER_FEMALE, LIFESTYLE_MODERATELY_ACTIVE, GOAL_MUSCLE_GAIN): (20, 30),\n",
    "        (GENDER_FEMALE, LIFESTYLE_MODERATELY_ACTIVE, GOAL_FAT_LOSS): (20, 30),\n",
    "        (GENDER_FEMALE, LIFESTYLE_VERY_ACTIVE, GOAL_MAINTENANCE): (35, 40),\n",
    "        (GENDER_FEMALE, LIFESTYLE_VERY_ACTIVE, GOAL_MUSCLE_GAIN): (20, 30),\n",
    "        (GENDER_FEMALE, LIFESTYLE_VERY_ACTIVE, GOAL_FAT_LOSS): (20, 30),\n",
    "        (GENDER_FEMALE, LIFESTYLE_EXTREMELY_ACTIVE, GOAL_MAINTENANCE): (40, 45),\n",
    "        (GENDER_FEMALE, LIFESTYLE_EXTREMELY_ACTIVE, GOAL_MUSCLE_GAIN): (20, 30),\n",
    "        (GENDER_FEMALE, LIFESTYLE_EXTREMELY_ACTIVE, GOAL_FAT_LOSS): (20, 30),\n",
    "    }[gender, lifestyle, goal]\n",
    "\n",
    "    # Convert calories to grams (1 gram of fat = 9 calories)\n",
    "    return (fat_percentage[0] / 100) * calories_range[0] / 9, (fat_percentage[1] / 100) * calories_range[1] / 9\n",
    "\n",
    "\n",
    "fat_range = calculate_fat(gender, lifestyle, goal, calories_range)\n",
    "\n",
    "print(fat_range)"
   ],
   "metadata": {
    "collapsed": false,
    "ExecuteTime": {
     "end_time": "2023-06-29T18:02:31.361603576Z",
     "start_time": "2023-06-29T18:02:31.339860297Z"
    }
   }
  },
  {
   "cell_type": "code",
   "execution_count": 233,
   "outputs": [
    {
     "name": "stdout",
     "output_type": "stream",
     "text": [
      "(200, 300)\n"
     ]
    }
   ],
   "source": [
    "def calculate_cholesterol():\n",
    "    return 200, 300\n",
    "\n",
    "\n",
    "cholesterol_range = calculate_cholesterol()\n",
    "\n",
    "print(cholesterol_range)"
   ],
   "metadata": {
    "collapsed": false,
    "ExecuteTime": {
     "end_time": "2023-06-29T18:02:31.361790497Z",
     "start_time": "2023-06-29T18:02:31.355113645Z"
    }
   }
  },
  {
   "cell_type": "code",
   "execution_count": 234,
   "outputs": [
    {
     "name": "stdout",
     "output_type": "stream",
     "text": [
      "(197.13078, 313.218906)\n"
     ]
    }
   ],
   "source": [
    "def calculate_carbohydrate(gender, lifestyle, goal, calories_range):\n",
    "    carbohydrate_percentage = {\n",
    "        (GENDER_MALE, LIFESTYLE_SEDENTARY, GOAL_MAINTENANCE): (50, 65),\n",
    "        (GENDER_MALE, LIFESTYLE_SEDENTARY, GOAL_MUSCLE_GAIN): (45, 65),\n",
    "        (GENDER_MALE, LIFESTYLE_SEDENTARY, GOAL_FAT_LOSS): (45, 65),\n",
    "        (GENDER_MALE, LIFESTYLE_SLIGHTLY_ACTIVE, GOAL_MAINTENANCE): (45, 60),\n",
    "        (GENDER_MALE, LIFESTYLE_SLIGHTLY_ACTIVE, GOAL_MUSCLE_GAIN): (45, 65),\n",
    "        (GENDER_MALE, LIFESTYLE_SLIGHTLY_ACTIVE, GOAL_FAT_LOSS): (45, 65),\n",
    "        (GENDER_MALE, LIFESTYLE_MODERATELY_ACTIVE, GOAL_MAINTENANCE): (40, 55),\n",
    "        (GENDER_MALE, LIFESTYLE_MODERATELY_ACTIVE, GOAL_MUSCLE_GAIN): (45, 65),\n",
    "        (GENDER_MALE, LIFESTYLE_MODERATELY_ACTIVE, GOAL_FAT_LOSS): (45, 65),\n",
    "        (GENDER_MALE, LIFESTYLE_VERY_ACTIVE, GOAL_MAINTENANCE): (35, 50),\n",
    "        (GENDER_MALE, LIFESTYLE_VERY_ACTIVE, GOAL_MUSCLE_GAIN): (45, 65),\n",
    "        (GENDER_MALE, LIFESTYLE_VERY_ACTIVE, GOAL_FAT_LOSS): (45, 65),\n",
    "        (GENDER_MALE, LIFESTYLE_EXTREMELY_ACTIVE, GOAL_MAINTENANCE): (30, 45),\n",
    "        (GENDER_MALE, LIFESTYLE_EXTREMELY_ACTIVE, GOAL_MUSCLE_GAIN): (45, 65),\n",
    "        (GENDER_MALE, LIFESTYLE_EXTREMELY_ACTIVE, GOAL_FAT_LOSS): (45, 65),\n",
    "\n",
    "        (GENDER_FEMALE, LIFESTYLE_SEDENTARY, GOAL_MAINTENANCE): (50, 65),\n",
    "        (GENDER_FEMALE, LIFESTYLE_SEDENTARY, GOAL_MUSCLE_GAIN): (45, 65),\n",
    "        (GENDER_FEMALE, LIFESTYLE_SEDENTARY, GOAL_FAT_LOSS): (45, 65),\n",
    "        (GENDER_FEMALE, LIFESTYLE_SLIGHTLY_ACTIVE, GOAL_MAINTENANCE): (45, 60),\n",
    "        (GENDER_FEMALE, LIFESTYLE_SLIGHTLY_ACTIVE, GOAL_MUSCLE_GAIN): (45, 65),\n",
    "        (GENDER_FEMALE, LIFESTYLE_SLIGHTLY_ACTIVE, GOAL_FAT_LOSS): (45, 65),\n",
    "        (GENDER_FEMALE, LIFESTYLE_MODERATELY_ACTIVE, GOAL_MAINTENANCE): (40, 55),\n",
    "        (GENDER_FEMALE, LIFESTYLE_MODERATELY_ACTIVE, GOAL_MUSCLE_GAIN): (45, 65),\n",
    "        (GENDER_FEMALE, LIFESTYLE_MODERATELY_ACTIVE, GOAL_FAT_LOSS): (45, 65),\n",
    "        (GENDER_FEMALE, LIFESTYLE_VERY_ACTIVE, GOAL_MAINTENANCE): (35, 50),\n",
    "        (GENDER_FEMALE, LIFESTYLE_VERY_ACTIVE, GOAL_MUSCLE_GAIN): (45, 65),\n",
    "        (GENDER_FEMALE, LIFESTYLE_VERY_ACTIVE, GOAL_FAT_LOSS): (45, 65),\n",
    "        (GENDER_FEMALE, LIFESTYLE_EXTREMELY_ACTIVE, GOAL_MAINTENANCE): (30, 45),\n",
    "        (GENDER_FEMALE, LIFESTYLE_EXTREMELY_ACTIVE, GOAL_MUSCLE_GAIN): (45, 65),\n",
    "        (GENDER_FEMALE, LIFESTYLE_EXTREMELY_ACTIVE, GOAL_FAT_LOSS): (45, 65),\n",
    "    }[gender, lifestyle, goal]\n",
    "\n",
    "    # Convert calories to grams (1 gram of carbohydrate = 4 calories)\n",
    "    return (\n",
    "        (carbohydrate_percentage[0] / 100) * calories_range[0] / 4,\n",
    "        (carbohydrate_percentage[1] / 100) * calories_range[1] / 4\n",
    "    )\n",
    "\n",
    "\n",
    "carbohydrate_range = calculate_carbohydrate(gender, lifestyle, goal, calories_range)\n",
    "\n",
    "print(carbohydrate_range)"
   ],
   "metadata": {
    "collapsed": false,
    "ExecuteTime": {
     "end_time": "2023-06-29T18:02:31.593239306Z",
     "start_time": "2023-06-29T18:02:31.358898178Z"
    }
   }
  },
  {
   "cell_type": "code",
   "execution_count": 235,
   "outputs": [
    {
     "name": "stdout",
     "output_type": "stream",
     "text": [
      "(0, 48.187523999999996)\n"
     ]
    }
   ],
   "source": [
    "def calculate_sugar(calories_range):\n",
    "    # It is advised to limit sugar intake to no more than 10% of total daily calorie intake.\n",
    "    # Convert calories to grams (1 gram of carbohydrate = 4 calories)\n",
    "    return 0, (10 / 100) * calories_range[1] / 4\n",
    "\n",
    "\n",
    "sugar_range = calculate_sugar(calories_range)\n",
    "\n",
    "print(sugar_range)"
   ],
   "metadata": {
    "collapsed": false,
    "ExecuteTime": {
     "end_time": "2023-06-29T18:02:31.593648579Z",
     "start_time": "2023-06-29T18:02:31.398996366Z"
    }
   }
  },
  {
   "cell_type": "code",
   "execution_count": 236,
   "outputs": [
    {
     "name": "stdout",
     "output_type": "stream",
     "text": [
      "(200, 2300)\n"
     ]
    }
   ],
   "source": [
    "def calculate_sodium():\n",
    "    return 200, 2300\n",
    "\n",
    "\n",
    "sodium_rage = calculate_sodium()\n",
    "\n",
    "print(sodium_rage)"
   ],
   "metadata": {
    "collapsed": false,
    "ExecuteTime": {
     "end_time": "2023-06-29T18:02:31.593790980Z",
     "start_time": "2023-06-29T18:02:31.399311072Z"
    }
   }
  },
  {
   "cell_type": "code",
   "execution_count": 237,
   "outputs": [
    {
     "name": "stdout",
     "output_type": "stream",
     "text": [
      "(1000, 1200)\n"
     ]
    }
   ],
   "source": [
    "def calculate_calcium():\n",
    "    return 1000, 1200\n",
    "\n",
    "\n",
    "calcium_range = calculate_calcium()\n",
    "\n",
    "print(calcium_range)"
   ],
   "metadata": {
    "collapsed": false,
    "ExecuteTime": {
     "end_time": "2023-06-29T18:02:31.593909342Z",
     "start_time": "2023-06-29T18:02:31.399535276Z"
    }
   }
  },
  {
   "cell_type": "code",
   "execution_count": 238,
   "outputs": [
    {
     "name": "stdout",
     "output_type": "stream",
     "text": [
      "(18, 22)\n"
     ]
    }
   ],
   "source": [
    "def calculate_iron(gender, age, pregnant, lactating):\n",
    "    if age <= 3:\n",
    "        return 7, 11\n",
    "\n",
    "    if age <= 8:\n",
    "        return 10, 14\n",
    "\n",
    "    if age <= 13:\n",
    "        return 8, 12\n",
    "\n",
    "    if age <= 18:\n",
    "        if gender == GENDER_MALE:\n",
    "            return 11, 15\n",
    "\n",
    "        if gender == GENDER_FEMALE:\n",
    "            if pregnant:\n",
    "                return 27, 31\n",
    "\n",
    "            if lactating:\n",
    "                return 10, 14\n",
    "\n",
    "            return 15, 19\n",
    "\n",
    "    if age <= 50:\n",
    "        if gender == GENDER_MALE:\n",
    "            return 8, 12\n",
    "\n",
    "        if gender == GENDER_FEMALE:\n",
    "            if pregnant:\n",
    "                return 27, 31\n",
    "\n",
    "            if lactating:\n",
    "                return 9, 13\n",
    "\n",
    "            return 18, 22\n",
    "\n",
    "    return 8, 12\n",
    "\n",
    "\n",
    "iron_range = calculate_iron(gender, age, pregnant, lactating)\n",
    "\n",
    "print(iron_range)"
   ],
   "metadata": {
    "collapsed": false,
    "ExecuteTime": {
     "end_time": "2023-06-29T18:02:31.594035459Z",
     "start_time": "2023-06-29T18:02:31.399738996Z"
    }
   }
  },
  {
   "cell_type": "code",
   "execution_count": 239,
   "outputs": [
    {
     "name": "stdout",
     "output_type": "stream",
     "text": [
      "(2600, 3400)\n"
     ]
    }
   ],
   "source": [
    "def calculate_potassium(age):\n",
    "    if age <= 3:\n",
    "        return 2000, 2500\n",
    "\n",
    "    if age <= 8:\n",
    "        return 2300, 2900\n",
    "\n",
    "    if age <= 13:\n",
    "        return 2500, 3000\n",
    "\n",
    "    if age <= 18:\n",
    "        return 2600, 3000\n",
    "\n",
    "    return 2600, 3400\n",
    "\n",
    "\n",
    "potassium_range = calculate_potassium(age)\n",
    "\n",
    "print(potassium_range)"
   ],
   "metadata": {
    "collapsed": false,
    "ExecuteTime": {
     "end_time": "2023-06-29T18:02:31.594150367Z",
     "start_time": "2023-06-29T18:02:31.400246466Z"
    }
   }
  },
  {
   "cell_type": "code",
   "execution_count": 240,
   "outputs": [
    {
     "name": "stdout",
     "output_type": "stream",
     "text": [
      "(75, 90)\n"
     ]
    }
   ],
   "source": [
    "def calculate_vitamin_c(age, pregnant, lactating):\n",
    "    if age <= 3:\n",
    "        return 15, 35\n",
    "\n",
    "    if age <= 8:\n",
    "        return 25, 45\n",
    "\n",
    "    if age <= 13:\n",
    "        return 45, 65\n",
    "\n",
    "    if pregnant and lactating:\n",
    "        return 120, 130\n",
    "\n",
    "    if pregnant:\n",
    "        return 80, 95\n",
    "\n",
    "    if lactating:\n",
    "        return 115, 120\n",
    "\n",
    "    return 75, 90\n",
    "\n",
    "\n",
    "vitamin_c_rage = calculate_vitamin_c(age, pregnant, lactating)\n",
    "\n",
    "print(vitamin_c_rage)"
   ],
   "metadata": {
    "collapsed": false,
    "ExecuteTime": {
     "end_time": "2023-06-29T18:02:31.595748165Z",
     "start_time": "2023-06-29T18:02:31.442738426Z"
    }
   }
  },
  {
   "cell_type": "markdown",
   "source": [
    "Now we can define an LP and add constraints."
   ],
   "metadata": {
    "collapsed": false
   }
  },
  {
   "cell_type": "code",
   "execution_count": 241,
   "outputs": [],
   "source": [
    "ranges = {\n",
    "    NUTRITIONAL_ITEM_CALORIES: calories_range,\n",
    "    NUTRITIONAL_ITEM_PROTEIN: protein_range,\n",
    "    NUTRITIONAL_ITEM_FAT: fat_range,\n",
    "    NUTRITIONAL_ITEM_CHOLESTEROL: cholesterol_range,\n",
    "    NUTRITIONAL_ITEM_CARBOHYDRATE: carbohydrate_range,\n",
    "    NUTRITIONAL_ITEM_SUGAR: sugar_range,\n",
    "    NUTRITIONAL_ITEM_SODIUM: sodium_rage,\n",
    "    NUTRITIONAL_ITEM_CALCIUM: calcium_range,\n",
    "    NUTRITIONAL_ITEM_IRON: iron_range,\n",
    "    NUTRITIONAL_ITEM_POTASSIUM: potassium_range,\n",
    "    NUTRITIONAL_ITEM_VITAMIN_C: vitamin_c_rage,\n",
    "}\n",
    "\n",
    "foods_mapping = {}\n",
    "for _, row in foods.iterrows():\n",
    "    foods_mapping[row[COLUMN_FDC_ID]] = row[COLUMN_DESCRIPTION]\n",
    "\n",
    "food_ids = foods[COLUMN_FDC_ID].tolist()"
   ],
   "metadata": {
    "collapsed": false,
    "ExecuteTime": {
     "end_time": "2023-06-29T18:02:31.731655101Z",
     "start_time": "2023-06-29T18:02:31.480903063Z"
    }
   }
  },
  {
   "cell_type": "markdown",
   "source": [
    "based on user goal, we do one of the following.\n",
    "\n",
    "- If the goal is Muscle Gain or Maintenance, we maximize protein intake.\n",
    "- If the goal is Fat loss, we minimize calories intake."
   ],
   "metadata": {
    "collapsed": false
   }
  },
  {
   "cell_type": "code",
   "execution_count": 242,
   "outputs": [],
   "source": [
    "import pulp\n",
    "\n",
    "prob = pulp.LpProblem(\n",
    "    \"DietOptimization\",\n",
    "    pulp.LpMinimize if goal == GOAL_FAT_LOSS else pulp.LpMaximize\n",
    ")"
   ],
   "metadata": {
    "collapsed": false,
    "ExecuteTime": {
     "end_time": "2023-06-29T18:02:31.778906277Z",
     "start_time": "2023-06-29T18:02:31.646853100Z"
    }
   }
  },
  {
   "cell_type": "markdown",
   "source": [
    "Before we define the goal, we need to add the variables.\n",
    "- `b_i` is a continuous variable representing the amount of `i`-th food in breakfast in grams.\n",
    "- `m_i` is a continuous variable representing the amount of `i`-th food in morning snack in grams.\n",
    "- `l_i` is a continuous variable representing the amount of `i`-th food in lunch in grams.\n",
    "- `a_i` is a continuous variable representing the amount of `i`-th food in afternoon snack in grams.\n",
    "- `d_i` is a continuous variable representing the amount of `i`-th food in dinner in grams.\n",
    "- `x_i` is a continuous variable representing the amount of `i`-th food in whole day in grams.\n",
    "- `bc_i` is a binary variable indicating whether `b_i` is non-zero.\n",
    "- `mc_i` is a binary variable indicating whether `m_i` is non-zero.\n",
    "- `lc_i` is a binary variable indicating whether `l_i` is non-zero.\n",
    "- `ac_i` is a binary variable indicating whether `a_i` is non-zero.\n",
    "- `dc_i` is a binary variable indicating whether `d_i` is non-zero.\n"
   ],
   "metadata": {
    "collapsed": false
   }
  },
  {
   "cell_type": "code",
   "execution_count": 243,
   "outputs": [],
   "source": [
    "v = {\n",
    "    \"b\": pulp.LpVariable.dicts(\"b\", food_ids, lowBound=0, cat=pulp.const.LpContinuous),\n",
    "    \"m\": pulp.LpVariable.dicts(\"m\", food_ids, lowBound=0, cat=pulp.const.LpContinuous),\n",
    "    \"l\": pulp.LpVariable.dicts(\"l\", food_ids, lowBound=0, cat=pulp.const.LpContinuous),\n",
    "    \"a\": pulp.LpVariable.dicts(\"a\", food_ids, lowBound=0, cat=pulp.const.LpContinuous),\n",
    "    \"d\": pulp.LpVariable.dicts(\"d\", food_ids, lowBound=0, cat=pulp.const.LpContinuous),\n",
    "    \"x\": pulp.LpVariable.dicts(\"x\", food_ids, lowBound=0, cat=pulp.const.LpContinuous),\n",
    "\n",
    "    \"bc\": pulp.LpVariable.dicts(\"bc\", food_ids, lowBound=0, cat=pulp.const.LpBinary),\n",
    "    \"mc\": pulp.LpVariable.dicts(\"mc\", food_ids, lowBound=0, cat=pulp.const.LpBinary),\n",
    "    \"lc\": pulp.LpVariable.dicts(\"lc\", food_ids, lowBound=0, cat=pulp.const.LpBinary),\n",
    "    \"ac\": pulp.LpVariable.dicts(\"ac\", food_ids, lowBound=0, cat=pulp.const.LpBinary),\n",
    "    \"dc\": pulp.LpVariable.dicts(\"dc\", food_ids, lowBound=0, cat=pulp.const.LpBinary),\n",
    "}"
   ],
   "metadata": {
    "collapsed": false,
    "ExecuteTime": {
     "end_time": "2023-06-29T18:02:31.823719161Z",
     "start_time": "2023-06-29T18:02:31.647330072Z"
    }
   }
  },
  {
   "cell_type": "markdown",
   "source": [
    "Now, we are able to define the goal."
   ],
   "metadata": {
    "collapsed": false
   }
  },
  {
   "cell_type": "code",
   "execution_count": 244,
   "outputs": [],
   "source": [
    "if goal == GOAL_FAT_LOSS:\n",
    "    # minimize calories\n",
    "    prob += pulp.lpSum((foods[COLUMN_CALORIES][i] / 100) * v[\"x\"][fid] for i, fid in enumerate(food_ids))\n",
    "else:\n",
    "    # maximize protein\n",
    "    prob += pulp.lpSum((foods[COLUMN_PROTEIN][i] / 100) * v[\"x\"][fid] for i, fid in enumerate(food_ids))"
   ],
   "metadata": {
    "collapsed": false,
    "ExecuteTime": {
     "end_time": "2023-06-29T18:02:31.895566290Z",
     "start_time": "2023-06-29T18:02:31.765268475Z"
    }
   }
  },
  {
   "cell_type": "markdown",
   "source": [
    "Now, we need to relate the variables."
   ],
   "metadata": {
    "collapsed": false
   }
  },
  {
   "cell_type": "code",
   "execution_count": 245,
   "outputs": [],
   "source": [
    "# constraints relating food variables and meal variables\n",
    "for fid in food_ids:\n",
    "    prob += pulp.lpSum((v[\"b\"][fid], v[\"m\"][fid], v[\"l\"][fid], v[\"a\"][fid], v[\"d\"][fid])) == v[\"x\"][fid]\n",
    "\n",
    "# constraints for either not having a food or having between MIN_FOOD and MAX_FOOD grams of the food in each meal\n",
    "# mc is one if m is none-zero and is zero if m is zero for m in {b, m, l, a, d}\n",
    "MIN_FOOD = 50\n",
    "MAX_FOOD = 500\n",
    "\n",
    "for fid in food_ids:\n",
    "    prob += v[\"b\"][fid] <= MAX_FOOD * v[\"bc\"][fid]\n",
    "    prob += v[\"b\"][fid] >= MIN_FOOD * v[\"bc\"][fid]\n",
    "\n",
    "    prob += v[\"m\"][fid] <= MAX_FOOD * v[\"mc\"][fid]\n",
    "    prob += v[\"m\"][fid] >= MIN_FOOD * v[\"mc\"][fid]\n",
    "\n",
    "    prob += v[\"l\"][fid] <= MAX_FOOD * v[\"lc\"][fid]\n",
    "    prob += v[\"l\"][fid] >= MIN_FOOD * v[\"lc\"][fid]\n",
    "\n",
    "    prob += v[\"a\"][fid] <= MAX_FOOD * v[\"ac\"][fid]\n",
    "    prob += v[\"a\"][fid] >= MIN_FOOD * v[\"ac\"][fid]\n",
    "\n",
    "    prob += v[\"d\"][fid] <= MAX_FOOD * v[\"dc\"][fid]\n",
    "    prob += v[\"d\"][fid] >= MIN_FOOD * v[\"dc\"][fid]\n"
   ],
   "metadata": {
    "collapsed": false,
    "ExecuteTime": {
     "end_time": "2023-06-29T18:02:32.356324702Z",
     "start_time": "2023-06-29T18:02:31.894738769Z"
    }
   }
  },
  {
   "cell_type": "markdown",
   "source": [
    "We add some constraints to achieve a more realistic and diverse diet."
   ],
   "metadata": {
    "collapsed": false
   }
  },
  {
   "cell_type": "code",
   "execution_count": 246,
   "outputs": [],
   "source": [
    "# constraints for not repeating a food in two meals\n",
    "for fid in food_ids:\n",
    "    prob += pulp.lpSum((v[\"bc\"][fid], v[\"mc\"][fid], v[\"lc\"][fid], v[\"ac\"][fid], v[\"dc\"][fid])) <= 1\n",
    "\n",
    "# constraints for excluding non-relevant foods in meals\n",
    "for i, fid in enumerate(food_ids):\n",
    "    if not foods[COLUMN_IS_BREAKFAST][i]:\n",
    "        prob += v[\"b\"][fid] == 0\n",
    "\n",
    "    if not foods[COLUMN_IS_MORNING_SNACK][i]:\n",
    "        prob += v[\"m\"][fid] == 0\n",
    "\n",
    "    if not foods[COLUMN_IS_LUNCH][i]:\n",
    "        prob += v[\"l\"][fid] == 0\n",
    "\n",
    "    if not foods[COLUMN_IS_AFTERNOON_SNACK][i]:\n",
    "        prob += v[\"a\"][fid] == 0\n",
    "\n",
    "    if not foods[COLUMN_IS_DINNER][i]:\n",
    "        prob += v[\"d\"][fid] == 0\n",
    "\n",
    "# constraints for food and beverage intake per meal and per day\n",
    "is_beverage = foods[COLUMN_IS_BEVERAGE]\n",
    "\n",
    "MIN_MEAL_FOOD = 200\n",
    "MAX_MEAL_FOOD = 800\n",
    "\n",
    "MIN_SNACK_FOOD = 100\n",
    "MAX_SNACK_FOOD = 700\n",
    "\n",
    "MIN_MEAL_BEVERAGE = 240\n",
    "MAX_MEAL_BEVERAGE = 360\n",
    "\n",
    "MIN_SNACK_BEVERAGE = 240\n",
    "MAX_SNACK_BEVERAGE = 360\n",
    "\n",
    "prob += pulp.lpSum((1 - is_beverage[i]) * v[\"b\"][fid] for i, fid in enumerate(food_ids)) >= MIN_MEAL_FOOD\n",
    "prob += pulp.lpSum((1 - is_beverage[i]) * v[\"b\"][fid] for i, fid in enumerate(food_ids)) <= MAX_MEAL_FOOD\n",
    "\n",
    "prob += pulp.lpSum((1 - is_beverage[i]) * v[\"m\"][fid] for i, fid in enumerate(food_ids)) >= MIN_SNACK_FOOD\n",
    "prob += pulp.lpSum((1 - is_beverage[i]) * v[\"m\"][fid] for i, fid in enumerate(food_ids)) <= MAX_SNACK_FOOD\n",
    "\n",
    "prob += pulp.lpSum((1 - is_beverage[i]) * v[\"l\"][fid] for i, fid in enumerate(food_ids)) >= MIN_MEAL_FOOD\n",
    "prob += pulp.lpSum((1 - is_beverage[i]) * v[\"l\"][fid] for i, fid in enumerate(food_ids)) <= MAX_MEAL_FOOD\n",
    "\n",
    "prob += pulp.lpSum((1 - is_beverage[i]) * v[\"a\"][fid] for i, fid in enumerate(food_ids)) >= MIN_SNACK_FOOD\n",
    "prob += pulp.lpSum((1 - is_beverage[i]) * v[\"a\"][fid] for i, fid in enumerate(food_ids)) <= MAX_SNACK_FOOD\n",
    "\n",
    "prob += pulp.lpSum((1 - is_beverage[i]) * v[\"d\"][fid] for i, fid in enumerate(food_ids)) >= MIN_MEAL_FOOD\n",
    "prob += pulp.lpSum((1 - is_beverage[i]) * v[\"d\"][fid] for i, fid in enumerate(food_ids)) <= MAX_MEAL_FOOD\n",
    "\n",
    "prob += pulp.lpSum(is_beverage[i] * v[\"b\"][fid] for i, fid in enumerate(food_ids)) >= MIN_MEAL_BEVERAGE\n",
    "prob += pulp.lpSum(is_beverage[i] * v[\"b\"][fid] for i, fid in enumerate(food_ids)) <= MAX_MEAL_BEVERAGE\n",
    "\n",
    "prob += pulp.lpSum(is_beverage[i] * v[\"m\"][fid] for i, fid in enumerate(food_ids)) >= MIN_SNACK_BEVERAGE\n",
    "prob += pulp.lpSum(is_beverage[i] * v[\"m\"][fid] for i, fid in enumerate(food_ids)) <= MAX_SNACK_BEVERAGE\n",
    "\n",
    "prob += pulp.lpSum(is_beverage[i] * v[\"l\"][fid] for i, fid in enumerate(food_ids)) >= MIN_MEAL_BEVERAGE\n",
    "prob += pulp.lpSum(is_beverage[i] * v[\"l\"][fid] for i, fid in enumerate(food_ids)) <= MAX_MEAL_BEVERAGE\n",
    "\n",
    "prob += pulp.lpSum(is_beverage[i] * v[\"a\"][fid] for i, fid in enumerate(food_ids)) >= MIN_SNACK_BEVERAGE\n",
    "prob += pulp.lpSum(is_beverage[i] * v[\"a\"][fid] for i, fid in enumerate(food_ids)) <= MAX_SNACK_BEVERAGE\n",
    "\n",
    "prob += pulp.lpSum(is_beverage[i] * v[\"d\"][fid] for i, fid in enumerate(food_ids)) >= MIN_MEAL_BEVERAGE\n",
    "prob += pulp.lpSum(is_beverage[i] * v[\"d\"][fid] for i, fid in enumerate(food_ids)) <= MAX_MEAL_BEVERAGE"
   ],
   "metadata": {
    "collapsed": false,
    "ExecuteTime": {
     "end_time": "2023-06-29T18:02:33.741904145Z",
     "start_time": "2023-06-29T18:02:32.356620778Z"
    }
   }
  },
  {
   "cell_type": "markdown",
   "source": [
    "Finally, we add constraints to limit the amount of nutrients per day."
   ],
   "metadata": {
    "collapsed": false
   }
  },
  {
   "cell_type": "code",
   "execution_count": 247,
   "outputs": [],
   "source": [
    "for key in NUTRITIONAL_ITEMS:\n",
    "    prob += pulp.lpSum((foods[key][i] / 100) * v[\"x\"][fid] for i, fid in enumerate(food_ids)) >= ranges[key][0]\n",
    "    prob += pulp.lpSum((foods[key][i] / 100) * v[\"x\"][fid] for i, fid in enumerate(food_ids)) <= ranges[key][1]"
   ],
   "metadata": {
    "collapsed": false,
    "ExecuteTime": {
     "end_time": "2023-06-29T18:02:34.954512050Z",
     "start_time": "2023-06-29T18:02:33.773544040Z"
    }
   }
  },
  {
   "cell_type": "markdown",
   "source": [
    "Now we are able to solve the LP."
   ],
   "metadata": {
    "collapsed": false
   }
  },
  {
   "cell_type": "code",
   "execution_count": 248,
   "outputs": [
    {
     "name": "stdout",
     "output_type": "stream",
     "text": [
      "Welcome to the CBC MILP Solver \n",
      "Version: 2.10.3 \n",
      "Build Date: Dec 15 2019 \n",
      "\n",
      "command line - /home/kamyar/repos/uni/ais/CS-SBU-eAdvancedAlgorithms-MSc-2023/venv/lib/python3.10/site-packages/pulp/solverdir/cbc/linux/64/cbc /tmp/8432a85caea94d06ac354a3f8a69e44e-pulp.mps max timeMode elapsed branch printingOptions all solution /tmp/8432a85caea94d06ac354a3f8a69e44e-pulp.sol (default strategy 1)\n",
      "At line 2 NAME          MODEL\n",
      "At line 3 ROWS\n",
      "At line 40147 COLUMNS\n",
      "At line 248808 RHS\n",
      "At line 288951 BOUNDS\n",
      "At line 303342 ENDATA\n",
      "Problem MODEL has 40142 rows, 31658 columns and 177096 elements\n",
      "Coin0008I MODEL read with 0 errors\n",
      "Option for timeMode changed from cpu to elapsed\n",
      "Continuous objective value is 65 - 0.11 seconds\n",
      "Cgl0008I 2878 inequality constraints converted to equality constraints\n",
      "Cgl0003I 0 fixed, 0 tightened bounds, 4 strengthened rows, 2 substitutions\n",
      "Cgl0004I processed model has 22314 rows, 22295 columns (11152 integer (11152 of which binary)) and 91512 elements\n",
      "Cbc0038I Initial state - 25 integers unsatisfied sum - 5.96902\n",
      "Cbc0038I Pass   1: (3.04 seconds) suminf.    1.63924 (11) obj. -65 iterations 11797\n",
      "Cbc0038I Pass   2: (3.98 seconds) suminf.    1.00000 (7) obj. -65 iterations 2449\n",
      "Cbc0038I Pass   3: (5.64 seconds) suminf.    0.20933 (3) obj. -64.0418 iterations 6787\n",
      "Cbc0038I Pass   4: (6.25 seconds) suminf.    0.04212 (1) obj. -62.9937 iterations 2328\n",
      "Cbc0038I Pass   5: (6.89 seconds) suminf.    0.00000 (0) obj. -64.444 iterations 2388\n",
      "Cbc0038I Solution found of -64.444\n",
      "Cbc0038I Relaxing continuous gives -65\n",
      "Cbc0038I Before mini branch and bound, 8687 integers at bound fixed and 13508 continuous\n",
      "Cbc0038I Mini branch and bound did not improve solution (7.35 seconds)\n",
      "Cbc0038I Freeing continuous variables gives a solution of -65\n",
      "Cbc0038I After 8.85 seconds - Feasibility pump exiting with objective of -65 - took 7.94 seconds\n",
      "Cbc0012I Integer solution of -65 found by feasibility pump after 0 iterations and 0 nodes (10.54 seconds)\n",
      "Cbc0001I Search completed - best objective -65, took 0 iterations and 0 nodes (10.55 seconds)\n",
      "Cbc0035I Maximum depth 0, 0 variables fixed on reduced cost\n",
      "Cuts at root node changed objective from -65 to -65\n",
      "Probing was tried 0 times and created 0 cuts of which 0 were active after adding rounds of cuts (0.000 seconds)\n",
      "Gomory was tried 0 times and created 0 cuts of which 0 were active after adding rounds of cuts (0.000 seconds)\n",
      "Knapsack was tried 0 times and created 0 cuts of which 0 were active after adding rounds of cuts (0.000 seconds)\n",
      "Clique was tried 0 times and created 0 cuts of which 0 were active after adding rounds of cuts (0.000 seconds)\n",
      "MixedIntegerRounding2 was tried 0 times and created 0 cuts of which 0 were active after adding rounds of cuts (0.000 seconds)\n",
      "FlowCover was tried 0 times and created 0 cuts of which 0 were active after adding rounds of cuts (0.000 seconds)\n",
      "TwoMirCuts was tried 0 times and created 0 cuts of which 0 were active after adding rounds of cuts (0.000 seconds)\n",
      "ZeroHalf was tried 0 times and created 0 cuts of which 0 were active after adding rounds of cuts (0.000 seconds)\n",
      "\n",
      "Result - Optimal solution found\n",
      "\n",
      "Objective value:                65.00000000\n",
      "Enumerated nodes:               0\n",
      "Total iterations:               0\n",
      "Time (CPU seconds):             13.69\n",
      "Time (Wallclock seconds):       14.34\n",
      "\n",
      "Option for printingOptions changed from normal to all\n",
      "Total time (CPU seconds):       13.90   (Wallclock seconds):       14.67\n",
      "\n",
      "Optimal\n"
     ]
    }
   ],
   "source": [
    "prob.solve()\n",
    "\n",
    "print(pulp.LpStatus[prob.status])"
   ],
   "metadata": {
    "collapsed": false,
    "ExecuteTime": {
     "end_time": "2023-06-29T18:02:50.407321054Z",
     "start_time": "2023-06-29T18:02:34.955644316Z"
    }
   }
  },
  {
   "cell_type": "code",
   "execution_count": 164,
   "outputs": [
    {
     "name": "stdout",
     "output_type": "stream",
     "text": [
      "Breakfast:\n",
      "240 grams Beverages, AMBER, hard cider\n",
      "500 grams Cereals, QUAKER, Instant Oatmeal, fruit and cream variety, dry\n",
      "\n",
      "Morning Snack:\n",
      "240 grams Orange-grapefruit juice, canned or bottled, unsweetened\n",
      "500 grams Onions, frozen, whole, cooked, boiled, drained, without salt\n",
      "\n",
      "Lunch:\n",
      "240 grams Beverages, ABBOTT, ENSURE PLUS, ready-to-drink\n",
      "500 grams Okra, frozen, cooked, boiled, drained, without salt\n",
      "\n",
      "Afternoon Snack:\n",
      "500 grams Artichokes, (globe or french), cooked, boiled, drained, with salt\n",
      "240 grams Carbonated beverage, cream soda\n",
      "\n",
      "Dinner:\n",
      "240 grams Orange juice, canned, unsweetened\n",
      "500 grams Chicken, broilers or fryers, meat only, cooked, fried\n"
     ]
    }
   ],
   "source": [
    "print(\n",
    "    \"Breakfast:\\n\" + \"\\n\".join(\n",
    "        f\"{int(v['b'][food_id].varValue)} grams {foods_mapping[food_id]}\" for food_id in food_ids if v['b'][food_id].varValue != 0\n",
    "    ) + \"\\n\\n\" +\n",
    "    \"Morning Snack:\\n\" + \"\\n\".join(\n",
    "        f\"{int(v['m'][food_id].varValue)} grams {foods_mapping[food_id]}\" for food_id in food_ids if v['m'][food_id].varValue != 0\n",
    "    ) + \"\\n\\n\" +\n",
    "    \"Lunch:\\n\" + \"\\n\".join(\n",
    "        f\"{int(v['l'][food_id].varValue)} grams {foods_mapping[food_id]}\" for food_id in food_ids if v['l'][food_id].varValue != 0\n",
    "    ) + \"\\n\\n\" +\n",
    "    \"Afternoon Snack:\\n\" + \"\\n\".join(\n",
    "        f\"{int(v['a'][food_id].varValue)} grams {foods_mapping[food_id]}\" for food_id in food_ids if v['a'][food_id].varValue != 0\n",
    "    ) + \"\\n\\n\" +\n",
    "    \"Dinner:\\n\" + \"\\n\".join(\n",
    "        f\"{int(v['d'][food_id].varValue)} grams {foods_mapping[food_id]}\" for food_id in food_ids if v['d'][food_id].varValue != 0\n",
    "    )\n",
    ")"
   ],
   "metadata": {
    "collapsed": false,
    "ExecuteTime": {
     "end_time": "2023-06-29T17:50:22.283011773Z",
     "start_time": "2023-06-29T17:50:22.240497714Z"
    }
   }
  }
 ],
 "metadata": {
  "kernelspec": {
   "display_name": "Python 3",
   "language": "python",
   "name": "python3"
  },
  "language_info": {
   "codemirror_mode": {
    "name": "ipython",
    "version": 2
   },
   "file_extension": ".py",
   "mimetype": "text/x-python",
   "name": "python",
   "nbconvert_exporter": "python",
   "pygments_lexer": "ipython2",
   "version": "2.7.6"
  }
 },
 "nbformat": 4,
 "nbformat_minor": 0
}
